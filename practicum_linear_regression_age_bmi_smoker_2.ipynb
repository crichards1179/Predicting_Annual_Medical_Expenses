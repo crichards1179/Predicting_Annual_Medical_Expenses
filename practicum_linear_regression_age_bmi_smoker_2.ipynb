{
 "cells": [
  {
   "cell_type": "markdown",
   "metadata": {},
   "source": [
    "# Predicting Health Charges"
   ]
  },
  {
   "cell_type": "markdown",
   "metadata": {},
   "source": [
    "#### Chris Richards\n",
    "#### Practicum 1, Summer 2020\n",
    "#### Regis University"
   ]
  },
  {
   "cell_type": "markdown",
   "metadata": {},
   "source": [
    "### Multiple Linear Regression\n",
    "#### Features: 'age', 'bmi' and 'smoker'\n",
    "The LinearRegression model found in the scikit-learn library will be used.  This model will be built using multiple features to predict the target feature, 'charges'.  \n",
    "First the data will be manually split in to a test and training set.  The test set will be 30% of the data while the model will train on the other 70%.  Next the model will be fit to the training set and assessed for quality.  Next it will be validated against the test set of data.  \n",
    "In order to optimize the model cross-validation and parameter tuning will then be conducted using the GridSearchCV "
   ]
  },
  {
   "cell_type": "code",
   "execution_count": 28,
   "metadata": {},
   "outputs": [],
   "source": [
    "import numpy as np\n",
    "import pandas as pd\n",
    "import seaborn as sns\n",
    "from scipy import stats\n",
    "import matplotlib.pyplot as plt\n",
    "\n",
    "from sklearn import linear_model, metrics\n",
    "from sklearn.metrics import mean_squared_error, r2_score\n",
    "from sklearn.model_selection import train_test_split\n",
    "\n",
    "from sklearn.svm import SVR\n",
    "\n",
    "import statsmodels.api as sm"
   ]
  },
  {
   "cell_type": "code",
   "execution_count": 29,
   "metadata": {},
   "outputs": [],
   "source": [
    "df = pd.read_csv(r\"E:\\Regis\\Practicum_1\\df_encoded.csv\")\n",
    "df_profile = df"
   ]
  },
  {
   "cell_type": "code",
   "execution_count": 30,
   "metadata": {},
   "outputs": [
    {
     "name": "stdout",
     "output_type": "stream",
     "text": [
      "<class 'pandas.core.frame.DataFrame'>\n",
      "RangeIndex: 1337 entries, 0 to 1336\n",
      "Data columns (total 5 columns):\n",
      " #   Column      Non-Null Count  Dtype  \n",
      "---  ------      --------------  -----  \n",
      " 0   age         1337 non-null   int64  \n",
      " 1   bmi         1337 non-null   float64\n",
      " 2   charges     1337 non-null   float64\n",
      " 3   smoker_no   1337 non-null   int64  \n",
      " 4   smoker_yes  1337 non-null   int64  \n",
      "dtypes: float64(2), int64(3)\n",
      "memory usage: 52.4 KB\n"
     ]
    }
   ],
   "source": [
    "df.info()"
   ]
  },
  {
   "cell_type": "code",
   "execution_count": 31,
   "metadata": {},
   "outputs": [
    {
     "data": {
      "text/plain": [
       "<bound method NDFrame.describe of       age     bmi      charges  smoker_no  smoker_yes\n",
       "0      19  27.900  16884.92400          0           1\n",
       "1      18  33.770   1725.55230          1           0\n",
       "2      28  33.000   4449.46200          1           0\n",
       "3      33  22.705  21984.47061          1           0\n",
       "4      32  28.880   3866.85520          1           0\n",
       "...   ...     ...          ...        ...         ...\n",
       "1332   50  30.970  10600.54830          1           0\n",
       "1333   18  31.920   2205.98080          1           0\n",
       "1334   18  36.850   1629.83350          1           0\n",
       "1335   21  25.800   2007.94500          1           0\n",
       "1336   61  29.070  29141.36030          0           1\n",
       "\n",
       "[1337 rows x 5 columns]>"
      ]
     },
     "execution_count": 31,
     "metadata": {},
     "output_type": "execute_result"
    }
   ],
   "source": [
    "df.describe"
   ]
  },
  {
   "cell_type": "markdown",
   "metadata": {},
   "source": [
    "#### Split the data into the test and train sets\n",
    "The test size is set to 30% of the set.  A random seed of 1179 is set for reproducibility.  "
   ]
  },
  {
   "cell_type": "code",
   "execution_count": 32,
   "metadata": {},
   "outputs": [],
   "source": [
    "X = df.filter(items=['age', 'bmi', 'smoker_no', 'smoker_yes'])\n",
    "y = df['charges']"
   ]
  },
  {
   "cell_type": "code",
   "execution_count": 33,
   "metadata": {},
   "outputs": [
    {
     "data": {
      "text/html": [
       "<div>\n",
       "<style scoped>\n",
       "    .dataframe tbody tr th:only-of-type {\n",
       "        vertical-align: middle;\n",
       "    }\n",
       "\n",
       "    .dataframe tbody tr th {\n",
       "        vertical-align: top;\n",
       "    }\n",
       "\n",
       "    .dataframe thead th {\n",
       "        text-align: right;\n",
       "    }\n",
       "</style>\n",
       "<table border=\"1\" class=\"dataframe\">\n",
       "  <thead>\n",
       "    <tr style=\"text-align: right;\">\n",
       "      <th></th>\n",
       "      <th>age</th>\n",
       "      <th>bmi</th>\n",
       "      <th>smoker_no</th>\n",
       "      <th>smoker_yes</th>\n",
       "    </tr>\n",
       "  </thead>\n",
       "  <tbody>\n",
       "    <tr>\n",
       "      <th>0</th>\n",
       "      <td>19</td>\n",
       "      <td>27.900</td>\n",
       "      <td>0</td>\n",
       "      <td>1</td>\n",
       "    </tr>\n",
       "    <tr>\n",
       "      <th>1</th>\n",
       "      <td>18</td>\n",
       "      <td>33.770</td>\n",
       "      <td>1</td>\n",
       "      <td>0</td>\n",
       "    </tr>\n",
       "    <tr>\n",
       "      <th>2</th>\n",
       "      <td>28</td>\n",
       "      <td>33.000</td>\n",
       "      <td>1</td>\n",
       "      <td>0</td>\n",
       "    </tr>\n",
       "    <tr>\n",
       "      <th>3</th>\n",
       "      <td>33</td>\n",
       "      <td>22.705</td>\n",
       "      <td>1</td>\n",
       "      <td>0</td>\n",
       "    </tr>\n",
       "    <tr>\n",
       "      <th>4</th>\n",
       "      <td>32</td>\n",
       "      <td>28.880</td>\n",
       "      <td>1</td>\n",
       "      <td>0</td>\n",
       "    </tr>\n",
       "    <tr>\n",
       "      <th>...</th>\n",
       "      <td>...</td>\n",
       "      <td>...</td>\n",
       "      <td>...</td>\n",
       "      <td>...</td>\n",
       "    </tr>\n",
       "    <tr>\n",
       "      <th>1332</th>\n",
       "      <td>50</td>\n",
       "      <td>30.970</td>\n",
       "      <td>1</td>\n",
       "      <td>0</td>\n",
       "    </tr>\n",
       "    <tr>\n",
       "      <th>1333</th>\n",
       "      <td>18</td>\n",
       "      <td>31.920</td>\n",
       "      <td>1</td>\n",
       "      <td>0</td>\n",
       "    </tr>\n",
       "    <tr>\n",
       "      <th>1334</th>\n",
       "      <td>18</td>\n",
       "      <td>36.850</td>\n",
       "      <td>1</td>\n",
       "      <td>0</td>\n",
       "    </tr>\n",
       "    <tr>\n",
       "      <th>1335</th>\n",
       "      <td>21</td>\n",
       "      <td>25.800</td>\n",
       "      <td>1</td>\n",
       "      <td>0</td>\n",
       "    </tr>\n",
       "    <tr>\n",
       "      <th>1336</th>\n",
       "      <td>61</td>\n",
       "      <td>29.070</td>\n",
       "      <td>0</td>\n",
       "      <td>1</td>\n",
       "    </tr>\n",
       "  </tbody>\n",
       "</table>\n",
       "<p>1337 rows × 4 columns</p>\n",
       "</div>"
      ],
      "text/plain": [
       "      age     bmi  smoker_no  smoker_yes\n",
       "0      19  27.900          0           1\n",
       "1      18  33.770          1           0\n",
       "2      28  33.000          1           0\n",
       "3      33  22.705          1           0\n",
       "4      32  28.880          1           0\n",
       "...   ...     ...        ...         ...\n",
       "1332   50  30.970          1           0\n",
       "1333   18  31.920          1           0\n",
       "1334   18  36.850          1           0\n",
       "1335   21  25.800          1           0\n",
       "1336   61  29.070          0           1\n",
       "\n",
       "[1337 rows x 4 columns]"
      ]
     },
     "execution_count": 33,
     "metadata": {},
     "output_type": "execute_result"
    }
   ],
   "source": [
    "X"
   ]
  },
  {
   "cell_type": "code",
   "execution_count": 34,
   "metadata": {},
   "outputs": [
    {
     "data": {
      "text/plain": [
       "0       16884.92400\n",
       "1        1725.55230\n",
       "2        4449.46200\n",
       "3       21984.47061\n",
       "4        3866.85520\n",
       "           ...     \n",
       "1332    10600.54830\n",
       "1333     2205.98080\n",
       "1334     1629.83350\n",
       "1335     2007.94500\n",
       "1336    29141.36030\n",
       "Name: charges, Length: 1337, dtype: float64"
      ]
     },
     "execution_count": 34,
     "metadata": {},
     "output_type": "execute_result"
    }
   ],
   "source": [
    "y"
   ]
  },
  {
   "cell_type": "code",
   "execution_count": 35,
   "metadata": {},
   "outputs": [],
   "source": [
    "X_train, X_test, y_train, y_test = train_test_split(X, y, test_size=0.3, random_state=1179)"
   ]
  },
  {
   "cell_type": "code",
   "execution_count": 36,
   "metadata": {},
   "outputs": [
    {
     "data": {
      "text/html": [
       "<div>\n",
       "<style scoped>\n",
       "    .dataframe tbody tr th:only-of-type {\n",
       "        vertical-align: middle;\n",
       "    }\n",
       "\n",
       "    .dataframe tbody tr th {\n",
       "        vertical-align: top;\n",
       "    }\n",
       "\n",
       "    .dataframe thead th {\n",
       "        text-align: right;\n",
       "    }\n",
       "</style>\n",
       "<table border=\"1\" class=\"dataframe\">\n",
       "  <thead>\n",
       "    <tr style=\"text-align: right;\">\n",
       "      <th></th>\n",
       "      <th>age</th>\n",
       "      <th>bmi</th>\n",
       "      <th>smoker_no</th>\n",
       "      <th>smoker_yes</th>\n",
       "    </tr>\n",
       "  </thead>\n",
       "  <tbody>\n",
       "    <tr>\n",
       "      <th>171</th>\n",
       "      <td>49</td>\n",
       "      <td>30.300</td>\n",
       "      <td>1</td>\n",
       "      <td>0</td>\n",
       "    </tr>\n",
       "    <tr>\n",
       "      <th>395</th>\n",
       "      <td>46</td>\n",
       "      <td>19.855</td>\n",
       "      <td>1</td>\n",
       "      <td>0</td>\n",
       "    </tr>\n",
       "    <tr>\n",
       "      <th>408</th>\n",
       "      <td>38</td>\n",
       "      <td>21.120</td>\n",
       "      <td>1</td>\n",
       "      <td>0</td>\n",
       "    </tr>\n",
       "    <tr>\n",
       "      <th>1238</th>\n",
       "      <td>25</td>\n",
       "      <td>42.130</td>\n",
       "      <td>1</td>\n",
       "      <td>0</td>\n",
       "    </tr>\n",
       "    <tr>\n",
       "      <th>76</th>\n",
       "      <td>29</td>\n",
       "      <td>29.590</td>\n",
       "      <td>1</td>\n",
       "      <td>0</td>\n",
       "    </tr>\n",
       "    <tr>\n",
       "      <th>...</th>\n",
       "      <td>...</td>\n",
       "      <td>...</td>\n",
       "      <td>...</td>\n",
       "      <td>...</td>\n",
       "    </tr>\n",
       "    <tr>\n",
       "      <th>1118</th>\n",
       "      <td>30</td>\n",
       "      <td>19.950</td>\n",
       "      <td>1</td>\n",
       "      <td>0</td>\n",
       "    </tr>\n",
       "    <tr>\n",
       "      <th>914</th>\n",
       "      <td>24</td>\n",
       "      <td>33.990</td>\n",
       "      <td>1</td>\n",
       "      <td>0</td>\n",
       "    </tr>\n",
       "    <tr>\n",
       "      <th>825</th>\n",
       "      <td>56</td>\n",
       "      <td>31.790</td>\n",
       "      <td>0</td>\n",
       "      <td>1</td>\n",
       "    </tr>\n",
       "    <tr>\n",
       "      <th>928</th>\n",
       "      <td>41</td>\n",
       "      <td>34.210</td>\n",
       "      <td>1</td>\n",
       "      <td>0</td>\n",
       "    </tr>\n",
       "    <tr>\n",
       "      <th>655</th>\n",
       "      <td>26</td>\n",
       "      <td>42.400</td>\n",
       "      <td>1</td>\n",
       "      <td>0</td>\n",
       "    </tr>\n",
       "  </tbody>\n",
       "</table>\n",
       "<p>935 rows × 4 columns</p>\n",
       "</div>"
      ],
      "text/plain": [
       "      age     bmi  smoker_no  smoker_yes\n",
       "171    49  30.300          1           0\n",
       "395    46  19.855          1           0\n",
       "408    38  21.120          1           0\n",
       "1238   25  42.130          1           0\n",
       "76     29  29.590          1           0\n",
       "...   ...     ...        ...         ...\n",
       "1118   30  19.950          1           0\n",
       "914    24  33.990          1           0\n",
       "825    56  31.790          0           1\n",
       "928    41  34.210          1           0\n",
       "655    26  42.400          1           0\n",
       "\n",
       "[935 rows x 4 columns]"
      ]
     },
     "execution_count": 36,
     "metadata": {},
     "output_type": "execute_result"
    }
   ],
   "source": [
    "X_train"
   ]
  },
  {
   "cell_type": "code",
   "execution_count": 37,
   "metadata": {},
   "outputs": [
    {
     "data": {
      "text/plain": [
       "171      8116.68000\n",
       "395      7526.70645\n",
       "408      6652.52880\n",
       "1238     3238.43570\n",
       "76       3947.41310\n",
       "           ...     \n",
       "1118     5693.43050\n",
       "914      2473.33410\n",
       "825     43813.86610\n",
       "928      6289.75490\n",
       "655      3410.32400\n",
       "Name: charges, Length: 935, dtype: float64"
      ]
     },
     "execution_count": 37,
     "metadata": {},
     "output_type": "execute_result"
    }
   ],
   "source": [
    "y_train"
   ]
  },
  {
   "cell_type": "code",
   "execution_count": 38,
   "metadata": {},
   "outputs": [
    {
     "data": {
      "text/html": [
       "<div>\n",
       "<style scoped>\n",
       "    .dataframe tbody tr th:only-of-type {\n",
       "        vertical-align: middle;\n",
       "    }\n",
       "\n",
       "    .dataframe tbody tr th {\n",
       "        vertical-align: top;\n",
       "    }\n",
       "\n",
       "    .dataframe thead th {\n",
       "        text-align: right;\n",
       "    }\n",
       "</style>\n",
       "<table border=\"1\" class=\"dataframe\">\n",
       "  <thead>\n",
       "    <tr style=\"text-align: right;\">\n",
       "      <th></th>\n",
       "      <th>age</th>\n",
       "      <th>bmi</th>\n",
       "      <th>smoker_no</th>\n",
       "      <th>smoker_yes</th>\n",
       "    </tr>\n",
       "  </thead>\n",
       "  <tbody>\n",
       "    <tr>\n",
       "      <th>410</th>\n",
       "      <td>19</td>\n",
       "      <td>17.480</td>\n",
       "      <td>1</td>\n",
       "      <td>0</td>\n",
       "    </tr>\n",
       "    <tr>\n",
       "      <th>1264</th>\n",
       "      <td>64</td>\n",
       "      <td>23.760</td>\n",
       "      <td>0</td>\n",
       "      <td>1</td>\n",
       "    </tr>\n",
       "    <tr>\n",
       "      <th>454</th>\n",
       "      <td>32</td>\n",
       "      <td>46.530</td>\n",
       "      <td>1</td>\n",
       "      <td>0</td>\n",
       "    </tr>\n",
       "    <tr>\n",
       "      <th>781</th>\n",
       "      <td>51</td>\n",
       "      <td>35.970</td>\n",
       "      <td>1</td>\n",
       "      <td>0</td>\n",
       "    </tr>\n",
       "    <tr>\n",
       "      <th>279</th>\n",
       "      <td>51</td>\n",
       "      <td>21.560</td>\n",
       "      <td>1</td>\n",
       "      <td>0</td>\n",
       "    </tr>\n",
       "    <tr>\n",
       "      <th>...</th>\n",
       "      <td>...</td>\n",
       "      <td>...</td>\n",
       "      <td>...</td>\n",
       "      <td>...</td>\n",
       "    </tr>\n",
       "    <tr>\n",
       "      <th>48</th>\n",
       "      <td>60</td>\n",
       "      <td>24.530</td>\n",
       "      <td>1</td>\n",
       "      <td>0</td>\n",
       "    </tr>\n",
       "    <tr>\n",
       "      <th>631</th>\n",
       "      <td>29</td>\n",
       "      <td>35.530</td>\n",
       "      <td>1</td>\n",
       "      <td>0</td>\n",
       "    </tr>\n",
       "    <tr>\n",
       "      <th>290</th>\n",
       "      <td>28</td>\n",
       "      <td>33.400</td>\n",
       "      <td>1</td>\n",
       "      <td>0</td>\n",
       "    </tr>\n",
       "    <tr>\n",
       "      <th>368</th>\n",
       "      <td>44</td>\n",
       "      <td>32.015</td>\n",
       "      <td>1</td>\n",
       "      <td>0</td>\n",
       "    </tr>\n",
       "    <tr>\n",
       "      <th>581</th>\n",
       "      <td>39</td>\n",
       "      <td>45.430</td>\n",
       "      <td>1</td>\n",
       "      <td>0</td>\n",
       "    </tr>\n",
       "  </tbody>\n",
       "</table>\n",
       "<p>402 rows × 4 columns</p>\n",
       "</div>"
      ],
      "text/plain": [
       "      age     bmi  smoker_no  smoker_yes\n",
       "410    19  17.480          1           0\n",
       "1264   64  23.760          0           1\n",
       "454    32  46.530          1           0\n",
       "781    51  35.970          1           0\n",
       "279    51  21.560          1           0\n",
       "...   ...     ...        ...         ...\n",
       "48     60  24.530          1           0\n",
       "631    29  35.530          1           0\n",
       "290    28  33.400          1           0\n",
       "368    44  32.015          1           0\n",
       "581    39  45.430          1           0\n",
       "\n",
       "[402 rows x 4 columns]"
      ]
     },
     "execution_count": 38,
     "metadata": {},
     "output_type": "execute_result"
    }
   ],
   "source": [
    "X_test"
   ]
  },
  {
   "cell_type": "code",
   "execution_count": 39,
   "metadata": {},
   "outputs": [
    {
     "data": {
      "text/plain": [
       "410      1621.34020\n",
       "1264    26926.51440\n",
       "454      4686.38870\n",
       "781      9386.16130\n",
       "279      9855.13140\n",
       "           ...     \n",
       "48      12629.89670\n",
       "631      3366.66970\n",
       "290      3172.01800\n",
       "368      8116.26885\n",
       "581      6356.27070\n",
       "Name: charges, Length: 402, dtype: float64"
      ]
     },
     "execution_count": 39,
     "metadata": {},
     "output_type": "execute_result"
    }
   ],
   "source": [
    "y_test"
   ]
  },
  {
   "cell_type": "markdown",
   "metadata": {},
   "source": [
    "Checking the splitting of the data looks correct.  The indexes for the data in each set matches up.  \n",
    "  \n",
    "  ### Linear Regression Model\n",
    "  \n",
    "A linear regression model will be created and analyzed using the scikit-learn library.  \n",
    "\n",
    "Create the regression model object."
   ]
  },
  {
   "cell_type": "code",
   "execution_count": 40,
   "metadata": {},
   "outputs": [],
   "source": [
    "l_reg = linear_model.LinearRegression()"
   ]
  },
  {
   "cell_type": "markdown",
   "metadata": {},
   "source": [
    "#### Fit the model to the training set"
   ]
  },
  {
   "cell_type": "code",
   "execution_count": 41,
   "metadata": {},
   "outputs": [
    {
     "data": {
      "text/plain": [
       "LinearRegression(copy_X=True, fit_intercept=True, n_jobs=None, normalize=False)"
      ]
     },
     "execution_count": 41,
     "metadata": {},
     "output_type": "execute_result"
    }
   ],
   "source": [
    "l_reg.fit(X_train, y_train)"
   ]
  },
  {
   "cell_type": "markdown",
   "metadata": {},
   "source": [
    "Validate the model by predicting on the test set."
   ]
  },
  {
   "cell_type": "code",
   "execution_count": 42,
   "metadata": {},
   "outputs": [],
   "source": [
    "l_reg_pred = l_reg.predict(X_test)"
   ]
  },
  {
   "cell_type": "markdown",
   "metadata": {},
   "source": [
    "Get the accuracy score from the model."
   ]
  },
  {
   "cell_type": "code",
   "execution_count": 43,
   "metadata": {},
   "outputs": [
    {
     "data": {
      "text/plain": [
       "0.7390572476455681"
      ]
     },
     "execution_count": 43,
     "metadata": {},
     "output_type": "execute_result"
    }
   ],
   "source": [
    "l_reg.score(X_test, y_test)"
   ]
  },
  {
   "cell_type": "markdown",
   "metadata": {},
   "source": [
    "Accuracy of the model is 73.90%.  \n",
    "\n",
    "Get the coefficients of the model."
   ]
  },
  {
   "cell_type": "code",
   "execution_count": 44,
   "metadata": {},
   "outputs": [
    {
     "name": "stdout",
     "output_type": "stream",
     "text": [
      "Coefficients: \n",
      " [   270.74489281    347.79260379 -11597.86831533  11597.86831533]\n"
     ]
    }
   ],
   "source": [
    "# regression coefficients\n",
    "\n",
    "print('Coefficients: \\n', l_reg.coef_)"
   ]
  },
  {
   "cell_type": "markdown",
   "metadata": {},
   "source": [
    "Alternatively, the accuracy score can be found using the 'r2_score' method of scikit-learn's 'metrics' library."
   ]
  },
  {
   "cell_type": "code",
   "execution_count": 45,
   "metadata": {},
   "outputs": [
    {
     "data": {
      "text/plain": [
       "0.7390572476455681"
      ]
     },
     "execution_count": 45,
     "metadata": {},
     "output_type": "execute_result"
    }
   ],
   "source": [
    "metrics.r2_score(y_test,l_reg_pred)"
   ]
  },
  {
   "cell_type": "markdown",
   "metadata": {},
   "source": [
    "Again, the accuracy is found to be 73.90%."
   ]
  },
  {
   "cell_type": "markdown",
   "metadata": {},
   "source": [
    "#### Plot the residual errors"
   ]
  },
  {
   "cell_type": "code",
   "execution_count": 46,
   "metadata": {},
   "outputs": [
    {
     "data": {
      "image/png": "[encoded data removed]",
      "text/plain": [
       "<Figure size 432x288 with 1 Axes>"
      ]
     },
     "metadata": {},
     "output_type": "display_data"
    }
   ],
   "source": [
    "plt.style.use('fivethirtyeight')\n",
    "\n",
    "#training data\n",
    "plt.scatter(l_reg.predict(X_train), \n",
    "            l_reg.predict(X_train) - y_train,\n",
    "            color = \"green\", \n",
    "            s = 10, \n",
    "            label = 'Train data'\n",
    "           )\n",
    "#test data\n",
    "plt.scatter(l_reg.predict(X_test), \n",
    "            l_reg.predict(X_test) - y_test, \n",
    "            color = \"blue\", \n",
    "            s = 10, \n",
    "            label = 'Test data'\n",
    "           )\n",
    "plt.hlines(y = 0, xmin = 0, xmax = 50, linewidth = 10)\n",
    "plt.legend(loc = 'lower right')\n",
    "plt.title(\"Residual errors\")\n",
    "plt.show()"
   ]
  },
  {
   "cell_type": "markdown",
   "metadata": {},
   "source": [
    "If the residuals are evenly plotted about the horizontal 0 axis then the linear model is appropriate for the data.  \n",
    "If they are unevenly plotted then a linear model is not appropriate.  \n",
    "  \n",
    "  Residual errors in the low range (15,000 or less) are mostly plotted along the horizontal 0 axis.  However, many residuals fall outside of the axis.\n",
    "  The residuals are not evenly plotted around the 0 axis therefore this data is not suited for a linear regression model.\n",
    "#### Plot Fitted Values vs Residuals"
   ]
  },
  {
   "cell_type": "code",
   "execution_count": 47,
   "metadata": {},
   "outputs": [
    {
     "data": {
      "text/plain": [
       "Text(0, 0.5, 'Residuals')"
      ]
     },
     "execution_count": 47,
     "metadata": {},
     "output_type": "execute_result"
    },
    {
     "data": {
      "image/png": "[encoded data removed]",
      "text/plain": [
       "<Figure size 432x288 with 1 Axes>"
      ]
     },
     "metadata": {},
     "output_type": "display_data"
    }
   ],
   "source": [
    "plt.scatter(l_reg_pred, (y_test-l_reg_pred))\n",
    "plt.xlabel(\"Fitted values\")\n",
    "plt.ylabel(\"Residuals\")"
   ]
  },
  {
   "cell_type": "markdown",
   "metadata": {},
   "source": [
    "This plot shows a similar pattern of residuals as the previous plot.  \n",
    "\n",
    "### Polynomial regression with SVR\n",
    "Create the SVR object. "
   ]
  },
  {
   "cell_type": "code",
   "execution_count": 48,
   "metadata": {},
   "outputs": [],
   "source": [
    "svr_poly = SVR(kernel='poly', C=1, gamma='auto', degree=3, epsilon=.1,\n",
    "               coef0=1)"
   ]
  },
  {
   "cell_type": "markdown",
   "metadata": {},
   "source": [
    "##### Fit SVR model"
   ]
  },
  {
   "cell_type": "code",
   "execution_count": 49,
   "metadata": {},
   "outputs": [
    {
     "data": {
      "text/plain": [
       "SVR(C=1, cache_size=200, coef0=1, degree=3, epsilon=0.1, gamma='auto',\n",
       "    kernel='poly', max_iter=-1, shrinking=True, tol=0.001, verbose=False)"
      ]
     },
     "execution_count": 49,
     "metadata": {},
     "output_type": "execute_result"
    }
   ],
   "source": [
    "svr_poly.fit(X_train, y_train)"
   ]
  },
  {
   "cell_type": "markdown",
   "metadata": {},
   "source": [
    "##### SVR Predictions\n",
    "Validate the model by predicting on the test set and retreiving the accuracy score."
   ]
  },
  {
   "cell_type": "code",
   "execution_count": 50,
   "metadata": {},
   "outputs": [
    {
     "name": "stdout",
     "output_type": "stream",
     "text": [
      "Accuracy (R^2): 80.95901186780226%2d\n"
     ]
    }
   ],
   "source": [
    "svr_pred = svr_poly.predict(X_test)\n",
    "\n",
    "print(\"Accuracy (R^2): {}%2d\".format(svr_poly.score(X_test, y_test) * 100 ))\n"
   ]
  },
  {
   "cell_type": "markdown",
   "metadata": {},
   "source": [
    "### Linear Regression with statsmodels\n",
    "Code from: https://datatofish.com/multiple-linear-regression-python/  \n",
    "\n",
    "Create the model object, fit and make predictions on the test set.  \n",
    "The statsmodel library offers a 'summary' of fit models which automatically calculates numerous metrics for validation, scoring, etc."
   ]
  },
  {
   "cell_type": "code",
   "execution_count": 51,
   "metadata": {},
   "outputs": [
    {
     "name": "stdout",
     "output_type": "stream",
     "text": [
      "                            OLS Regression Results                            \n",
      "==============================================================================\n",
      "Dep. Variable:                charges   R-squared:                       0.749\n",
      "Model:                            OLS   Adj. R-squared:                  0.749\n",
      "Method:                 Least Squares   F-statistic:                     928.2\n",
      "Date:                Tue, 16 Jun 2020   Prob (F-statistic):          3.29e-279\n",
      "Time:                        08:37:27   Log-Likelihood:                -9475.3\n",
      "No. Observations:                 935   AIC:                         1.896e+04\n",
      "Df Residuals:                     931   BIC:                         1.898e+04\n",
      "Df Model:                           3                                         \n",
      "Covariance Type:            nonrobust                                         \n",
      "==============================================================================\n",
      "                 coef    std err          t      P>|t|      [0.025      0.975]\n",
      "------------------------------------------------------------------------------\n",
      "age          270.7449     14.220     19.039      0.000     242.837     298.653\n",
      "bmi          347.7926     33.607     10.349      0.000     281.838     413.747\n",
      "smoker_no  -1.285e+04   1137.276    -11.301      0.000   -1.51e+04   -1.06e+04\n",
      "smoker_yes  1.034e+04   1186.611      8.717      0.000    8014.621    1.27e+04\n",
      "==============================================================================\n",
      "Omnibus:                      200.767   Durbin-Watson:                   1.957\n",
      "Prob(Omnibus):                  0.000   Jarque-Bera (JB):              420.209\n",
      "Skew:                           1.204   Prob(JB):                     5.66e-92\n",
      "Kurtosis:                       5.234   Cond. No.                         411.\n",
      "==============================================================================\n",
      "\n",
      "Warnings:\n",
      "[1] Standard Errors assume that the covariance matrix of the errors is correctly specified.\n"
     ]
    }
   ],
   "source": [
    "# with statsmodels\n",
    "#X = sm.add_constant(X_test) # adding a constant\n",
    " \n",
    "model = sm.OLS(y_train, X_train).fit()\n",
    "predictions = model.predict(X_test) \n",
    " \n",
    "print_model = model.summary()\n",
    "print(print_model)"
   ]
  },
  {
   "cell_type": "markdown",
   "metadata": {},
   "source": [
    "R^2 is 75%.  \n",
    "Durbin-Watson tests for autocorrelation in the residuals.  The model returned 1.96.\n",
    "A value of 2.0 means there is no autocorrelation detected in the data. \n",
    "Values from zero to 2.0 indicate positive autocorrelation and values from 2.0 to 4.0 indicate negative autocorrelation."
   ]
  },
  {
   "cell_type": "markdown",
   "metadata": {},
   "source": [
    "Get the residuals."
   ]
  },
  {
   "cell_type": "code",
   "execution_count": 52,
   "metadata": {},
   "outputs": [],
   "source": [
    "sms_residuals = model.resid"
   ]
  },
  {
   "cell_type": "markdown",
   "metadata": {},
   "source": [
    "#### Check normality of residuals\n",
    "A QQ plot will be used to assess the distribution of the residual errors.  This is useful in identifying problems with the distribution of the data which may impact the model."
   ]
  },
  {
   "cell_type": "code",
   "execution_count": 53,
   "metadata": {},
   "outputs": [],
   "source": [
    "import seaborn_qqplot as sqp"
   ]
  },
  {
   "cell_type": "markdown",
   "metadata": {},
   "source": [
    "##### statsmodels qqplot"
   ]
  },
  {
   "cell_type": "code",
   "execution_count": 54,
   "metadata": {},
   "outputs": [
    {
     "data": {
      "image/png": "[encoded data removed]",
      "text/plain": [
       "<Figure size 432x288 with 1 Axes>"
      ]
     },
     "metadata": {},
     "output_type": "display_data"
    }
   ],
   "source": [
    "fig = sm.qqplot(sms_residuals, line = 'r')"
   ]
  },
  {
   "cell_type": "markdown",
   "metadata": {},
   "source": [
    "Normally distributed data will produce a plot of point that aligns with the red line in the QQ plot.  Deviation from the red line indicates that the data is not normally distributed.  \n",
    "One assumption of linear regression modeling is that the data is normally distributed.  The data in this project is not normally distributed which will negatively impact a linear regression model."
   ]
  },
  {
   "cell_type": "markdown",
   "metadata": {},
   "source": [
    "### Conclusion\n",
    "The accuracy results of the three regression models somewhat low, with the SVR producing the best result.  \n",
    " - Model 1 (scikit-learn): 73.90%\n",
    " - Model 2 (SVR): 80.96%\n",
    " - Model 3 (statsmodel): 75.00%  \n",
    "   \n",
    "Additional engineering of the data may raise these scores, however, it is not recommeded.  \n",
    "Analysis of the fit models residuals as well as information discovered the EDA process indicate that the data set used in this project violates assumptions of linear regression modeling.  Other predictive models that our more appropriate for the data should be explored."
   ]
  }
 ],
 "metadata": {
  "kernelspec": {
   "display_name": "Python 3",
   "language": "python",
   "name": "python3"
  },
  "language_info": {
   "codemirror_mode": {
    "name": "ipython",
    "version": 3
   },
   "file_extension": ".py",
   "mimetype": "text/x-python",
   "name": "python",
   "nbconvert_exporter": "python",
   "pygments_lexer": "ipython3",
   "version": "3.7.1"
  }
 },
 "nbformat": 4,
 "nbformat_minor": 4
}
