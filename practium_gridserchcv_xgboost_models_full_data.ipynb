{
 "cells": [
  {
   "cell_type": "markdown",
   "metadata": {},
   "source": [
    "# Predicting Health Charges"
   ]
  },
  {
   "cell_type": "markdown",
   "metadata": {},
   "source": [
    "#### Chris Richards\n",
    "#### Practicum 1, Summer 2020\n",
    "#### Regis University"
   ]
  },
  {
   "cell_type": "markdown",
   "metadata": {},
   "source": [
    "### GridSearchCV with XGBoost Regression"
   ]
  },
  {
   "cell_type": "code",
   "execution_count": 15,
   "metadata": {},
   "outputs": [],
   "source": [
    "import numpy as np\n",
    "import pandas as pd\n",
    "import seaborn as sns\n",
    "from scipy import stats\n",
    "import matplotlib.pyplot as plt\n",
    "import graphviz\n",
    "\n",
    "from sklearn.model_selection import GridSearchCV\n",
    "from sklearn import metrics\n",
    "from sklearn.metrics import mean_squared_error, r2_score, accuracy_score\n",
    "from sklearn.model_selection import train_test_split\n",
    "\n",
    "import xgboost as xgb"
   ]
  },
  {
   "cell_type": "code",
   "execution_count": 16,
   "metadata": {},
   "outputs": [],
   "source": [
    "df = pd.read_csv(r\"E:\\Regis\\Practicum_1\\df_2_all_features.csv\")\n",
    "df_profile = df"
   ]
  },
  {
   "cell_type": "code",
   "execution_count": 17,
   "metadata": {
    "jupyter": {
     "source_hidden": true
    }
   },
   "outputs": [
    {
     "name": "stdout",
     "output_type": "stream",
     "text": [
      "<class 'pandas.core.frame.DataFrame'>\n",
      "RangeIndex: 1337 entries, 0 to 1336\n",
      "Data columns (total 12 columns):\n",
      " #   Column            Non-Null Count  Dtype  \n",
      "---  ------            --------------  -----  \n",
      " 0   age               1337 non-null   int64  \n",
      " 1   bmi               1337 non-null   float64\n",
      " 2   children          1337 non-null   int64  \n",
      " 3   charges           1337 non-null   float64\n",
      " 4   sex_female        1337 non-null   int64  \n",
      " 5   sex_male          1337 non-null   int64  \n",
      " 6   smoker_no         1337 non-null   int64  \n",
      " 7   smoker_yes        1337 non-null   int64  \n",
      " 8   region_northeast  1337 non-null   int64  \n",
      " 9   region_northwest  1337 non-null   int64  \n",
      " 10  region_southeast  1337 non-null   int64  \n",
      " 11  region_southwest  1337 non-null   int64  \n",
      "dtypes: float64(2), int64(10)\n",
      "memory usage: 125.5 KB\n",
      "None\n",
      "               age          bmi     children       charges   sex_female  \\\n",
      "count  1337.000000  1337.000000  1337.000000   1337.000000  1337.000000   \n",
      "mean     39.222139    30.663452     1.095737  13279.121487     0.495138   \n",
      "std      14.044333     6.100468     1.205571  12110.359656     0.500163   \n",
      "min      18.000000    15.960000     0.000000   1121.873900     0.000000   \n",
      "25%      27.000000    26.290000     0.000000   4746.344000     0.000000   \n",
      "50%      39.000000    30.400000     1.000000   9386.161300     0.000000   \n",
      "75%      51.000000    34.700000     2.000000  16657.717450     1.000000   \n",
      "max      64.000000    53.130000     5.000000  63770.428010     1.000000   \n",
      "\n",
      "          sex_male    smoker_no   smoker_yes  region_northeast  \\\n",
      "count  1337.000000  1337.000000  1337.000000       1337.000000   \n",
      "mean      0.504862     0.795064     0.204936          0.242334   \n",
      "std       0.500163     0.403806     0.403806          0.428655   \n",
      "min       0.000000     0.000000     0.000000          0.000000   \n",
      "25%       0.000000     1.000000     0.000000          0.000000   \n",
      "50%       1.000000     1.000000     0.000000          0.000000   \n",
      "75%       1.000000     1.000000     0.000000          0.000000   \n",
      "max       1.000000     1.000000     1.000000          1.000000   \n",
      "\n",
      "       region_northwest  region_southeast  region_southwest  \n",
      "count       1337.000000       1337.000000       1337.000000  \n",
      "mean           0.242334          0.272251          0.243082  \n",
      "std            0.428655          0.445285          0.429104  \n",
      "min            0.000000          0.000000          0.000000  \n",
      "25%            0.000000          0.000000          0.000000  \n",
      "50%            0.000000          0.000000          0.000000  \n",
      "75%            0.000000          1.000000          0.000000  \n",
      "max            1.000000          1.000000          1.000000  \n"
     ]
    }
   ],
   "source": [
    "print(df.info())\n",
    "print(df.describe())"
   ]
  },
  {
   "cell_type": "code",
   "execution_count": null,
   "metadata": {},
   "outputs": [],
   "source": []
  },
  {
   "cell_type": "markdown",
   "metadata": {},
   "source": [
    "#### Split the input features from the target, \"charges\"\n"
   ]
  },
  {
   "cell_type": "code",
   "execution_count": 18,
   "metadata": {},
   "outputs": [],
   "source": [
    "X = df.loc[:, df.columns != 'charges'] # select all columns except for charges\n",
    "y = df['charges']"
   ]
  },
  {
   "cell_type": "markdown",
   "metadata": {},
   "source": [
    "#### GridSearchCV\n",
    "   \n",
    "Create XGBoost model object"
   ]
  },
  {
   "cell_type": "code",
   "execution_count": 25,
   "metadata": {},
   "outputs": [],
   "source": [
    "xg_model = xgb.XGBRegressor() "
   ]
  },
  {
   "cell_type": "markdown",
   "metadata": {},
   "source": [
    "Create list of parameters"
   ]
  },
  {
   "cell_type": "code",
   "execution_count": 26,
   "metadata": {},
   "outputs": [],
   "source": [
    "candidate_parameters = {\n",
    "    'objective': ['reg:squarederror'],\n",
    "    'seed': ['1970'],\n",
    "    'colsample_bytree': [0.1, 0.25, 0.5, 0.75], \n",
    "    'learning_rate': [0.1, 0.25, 0.5, 0.75], \n",
    "    'max_depth': [3, 5, 8, 10, 15, 20],\n",
    "    'alpha': [1, 5, 10],\n",
    "    'gamma': [1, 5, 10],\n",
    "    'lambda': [1, 5, 10],\n",
    "    'n_estimators': [5, 10, 20, 50, 100, 1000], \n",
    "    #'eval_metric':['rmse'],\n",
    "    'min_child_weight': [0, 1, 2, 3]\n",
    "}"
   ]
  },
  {
   "cell_type": "markdown",
   "metadata": {},
   "source": [
    "Create gridsearch"
   ]
  },
  {
   "cell_type": "code",
   "execution_count": 27,
   "metadata": {},
   "outputs": [],
   "source": [
    "gs = GridSearchCV(\n",
    "    estimator=xg_model,\n",
    "    cv=10,\n",
    "    param_grid=candidate_parameters,\n",
    "    scoring='r2',\n",
    "    n_jobs=-1\n",
    ")"
   ]
  },
  {
   "cell_type": "markdown",
   "metadata": {},
   "source": [
    "Fit gridsearch"
   ]
  },
  {
   "cell_type": "code",
   "execution_count": 28,
   "metadata": {},
   "outputs": [
    {
     "data": {
      "text/plain": [
       "GridSearchCV(cv=10, error_score=nan,\n",
       "             estimator=XGBRegressor(base_score=None, booster=None,\n",
       "                                    colsample_bylevel=None,\n",
       "                                    colsample_bynode=None,\n",
       "                                    colsample_bytree=None, gamma=None,\n",
       "                                    gpu_id=None, importance_type='gain',\n",
       "                                    interaction_constraints=None,\n",
       "                                    learning_rate=None, max_delta_step=None,\n",
       "                                    max_depth=None, min_child_weight=None,\n",
       "                                    missing=nan, monotone_constraints=None,\n",
       "                                    n_estim...\n",
       "             param_grid={'alpha': [1, 5, 10],\n",
       "                         'colsample_bytree': [0.1, 0.25, 0.5, 0.75],\n",
       "                         'gamma': [1, 5, 10], 'lambda': [1, 5, 10],\n",
       "                         'learning_rate': [0.1, 0.25, 0.5, 0.75],\n",
       "                         'max_depth': [3, 5, 8, 10, 15, 20],\n",
       "                         'min_child_weight': [0, 1, 2, 3],\n",
       "                         'n_estimators': [5, 10, 20, 50, 100, 1000],\n",
       "                         'objective': ['reg:squarederror'], 'seed': ['1970']},\n",
       "             pre_dispatch='2*n_jobs', refit=True, return_train_score=False,\n",
       "             scoring='r2', verbose=0)"
      ]
     },
     "execution_count": 28,
     "metadata": {},
     "output_type": "execute_result"
    }
   ],
   "source": [
    "gs.fit(X, y)"
   ]
  },
  {
   "cell_type": "markdown",
   "metadata": {},
   "source": [
    "Get best parameters"
   ]
  },
  {
   "cell_type": "code",
   "execution_count": 29,
   "metadata": {},
   "outputs": [
    {
     "data": {
      "text/plain": [
       "{'alpha': 1,\n",
       " 'colsample_bytree': 0.75,\n",
       " 'gamma': 1,\n",
       " 'lambda': 10,\n",
       " 'learning_rate': 0.1,\n",
       " 'max_depth': 3,\n",
       " 'min_child_weight': 0,\n",
       " 'n_estimators': 50,\n",
       " 'objective': 'reg:squarederror',\n",
       " 'seed': '1970'}"
      ]
     },
     "execution_count": 29,
     "metadata": {},
     "output_type": "execute_result"
    }
   ],
   "source": [
    "gs_best_params = gs.best_params_\n",
    "gs_best_params"
   ]
  },
  {
   "cell_type": "markdown",
   "metadata": {},
   "source": [
    "Get best score"
   ]
  },
  {
   "cell_type": "code",
   "execution_count": 30,
   "metadata": {},
   "outputs": [
    {
     "data": {
      "text/plain": [
       "'Accuracy (R^2): 86.00%'"
      ]
     },
     "execution_count": 30,
     "metadata": {},
     "output_type": "execute_result"
    }
   ],
   "source": [
    "score = (gs.best_score_)*100\n",
    "f\"Accuracy (R^2): {score:.2f}%\""
   ]
  },
  {
   "cell_type": "markdown",
   "metadata": {},
   "source": [
    "Get best estimator"
   ]
  },
  {
   "cell_type": "code",
   "execution_count": 31,
   "metadata": {},
   "outputs": [
    {
     "data": {
      "text/plain": [
       "XGBRegressor(alpha=1, base_score=0.5, booster='gbtree', colsample_bylevel=1,\n",
       "             colsample_bynode=1, colsample_bytree=0.75, gamma=1, gpu_id=-1,\n",
       "             importance_type='gain', interaction_constraints='', lambda=10,\n",
       "             learning_rate=0.1, max_delta_step=0, max_depth=3,\n",
       "             min_child_weight=0, missing=nan, monotone_constraints='()',\n",
       "             n_estimators=50, n_jobs=0, num_parallel_tree=1,\n",
       "             objective='reg:squarederror', random_state=1970, reg_alpha=1,\n",
       "             reg_lambda=10, scale_pos_weight=1, seed='1970', subsample=1,\n",
       "             tree_method='exact', validate_parameters=1, verbosity=None)"
      ]
     },
     "execution_count": 31,
     "metadata": {},
     "output_type": "execute_result"
    }
   ],
   "source": [
    "gs_best_estimator = gs.best_estimator_\n",
    "gs_best_estimator"
   ]
  },
  {
   "cell_type": "code",
   "execution_count": 36,
   "metadata": {},
   "outputs": [],
   "source": [
    "gs_results = gs.cv_results_"
   ]
  },
  {
   "cell_type": "markdown",
   "metadata": {},
   "source": [
    "Predict test data"
   ]
  },
  {
   "cell_type": "code",
   "execution_count": 37,
   "metadata": {},
   "outputs": [
    {
     "data": {
      "text/plain": [
       "array([18450.129 ,  4200.7866,  6584.702 , ...,  3195.7646,  2938.4475,\n",
       "       28449.664 ], dtype=float32)"
      ]
     },
     "execution_count": 37,
     "metadata": {},
     "output_type": "execute_result"
    }
   ],
   "source": [
    "gs_pred = gs.predict(X)\n",
    "gs_pred"
   ]
  },
  {
   "cell_type": "markdown",
   "metadata": {},
   "source": [
    "#### XGBoost Best Model\n",
    "  \n",
    "Fit the model using best parameters"
   ]
  },
  {
   "cell_type": "code",
   "execution_count": 42,
   "metadata": {},
   "outputs": [],
   "source": [
    "fit_gs = gs_best_estimator.fit(X,y)\n",
    "gs_preds = fit_gs.predict(X)"
   ]
  },
  {
   "cell_type": "code",
   "execution_count": 41,
   "metadata": {},
   "outputs": [
    {
     "data": {
      "text/plain": [
       "'Accuracy (R^2) Model 2 training: 87.72%'"
      ]
     },
     "execution_count": 41,
     "metadata": {},
     "output_type": "execute_result"
    }
   ],
   "source": [
    "score = fit_gs.score(X, y)*100\n",
    "f\"Accuracy (R^2) Model 2 training: {score:.2f}%\""
   ]
  },
  {
   "cell_type": "code",
   "execution_count": 82,
   "metadata": {
    "collapsed": true,
    "jupyter": {
     "outputs_hidden": true
    }
   },
   "outputs": [
    {
     "data": {
      "text/plain": [
       "'Accuracy (R^2) Model 2 testing: 100.00%'"
      ]
     },
     "execution_count": 82,
     "metadata": {},
     "output_type": "execute_result"
    }
   ],
   "source": [
    "#score = fit_gs.score(X_test, gs_preds)*100\n",
    "#f\"Accuracy (R^2) Model 2 testing: {score:.2f}%\""
   ]
  },
  {
   "cell_type": "code",
   "execution_count": 43,
   "metadata": {},
   "outputs": [
    {
     "name": "stdout",
     "output_type": "stream",
     "text": [
      "MSE: 17989478.45\n",
      "RMSE: 4241.40\n"
     ]
    }
   ],
   "source": [
    "mse = mean_squared_error(gs_preds, y)\n",
    "print(\"MSE: %.2f\" % mse)\n",
    "print(\"RMSE: %.2f\" % np.sqrt(mse))"
   ]
  },
  {
   "cell_type": "markdown",
   "metadata": {},
   "source": [
    "### Save the model to a file"
   ]
  },
  {
   "cell_type": "code",
   "execution_count": 44,
   "metadata": {},
   "outputs": [
    {
     "name": "stderr",
     "output_type": "stream",
     "text": [
      "C:\\Users\\cr117\\Anaconda3\\lib\\site-packages\\sklearn\\externals\\joblib\\__init__.py:15: FutureWarning: sklearn.externals.joblib is deprecated in 0.21 and will be removed in 0.23. Please import this functionality directly from joblib, which can be installed with: pip install joblib. If this warning is raised when loading pickled models, you may need to re-serialize those models with scikit-learn 0.21+.\n",
      "  warnings.warn(msg, category=FutureWarning)\n"
     ]
    }
   ],
   "source": [
    "from sklearn.externals import joblib "
   ]
  },
  {
   "cell_type": "code",
   "execution_count": 46,
   "metadata": {},
   "outputs": [
    {
     "data": {
      "text/plain": [
       "array([18450.129 ,  4200.7866,  6584.702 , ...,  3195.7646,  2938.4475,\n",
       "       28449.664 ], dtype=float32)"
      ]
     },
     "execution_count": 46,
     "metadata": {},
     "output_type": "execute_result"
    }
   ],
   "source": [
    "# Save the model as a pickle in a file \n",
    "joblib.dump(fit_gs, 'gscv_xgb_model_full_data_set.pkl') \n",
    "  \n",
    "# Load the model from the file \n",
    "fit_gs_model_from_joblib = joblib.load('gscv_xgb_model_full_data_set.pkl')  \n",
    "  \n",
    "# Use the loaded model to make predictions \n",
    "fit_gs_model_from_joblib.predict(X) "
   ]
  },
  {
   "cell_type": "markdown",
   "metadata": {},
   "source": [
    "### Save as json file"
   ]
  },
  {
   "cell_type": "code",
   "execution_count": 47,
   "metadata": {},
   "outputs": [],
   "source": [
    "fit_gs.save_model('gscv_xgb_model_full_data_set.json')"
   ]
  },
  {
   "cell_type": "markdown",
   "metadata": {},
   "source": [
    "#### XGBoost Best Model: Plots"
   ]
  },
  {
   "cell_type": "code",
   "execution_count": 48,
   "metadata": {},
   "outputs": [
    {
     "data": {
      "text/plain": [
       "<matplotlib.axes._subplots.AxesSubplot at 0x2948ceb16a0>"
      ]
     },
     "execution_count": 48,
     "metadata": {},
     "output_type": "execute_result"
    },
    {
     "data": {
      "image/png": "[encoded data removed]",
      "text/plain": [
       "<Figure size 432x288 with 1 Axes>"
      ]
     },
     "metadata": {
      "needs_background": "light"
     },
     "output_type": "display_data"
    }
   ],
   "source": [
    "xgb.plot_importance(fit_gs)"
   ]
  },
  {
   "cell_type": "code",
   "execution_count": 49,
   "metadata": {},
   "outputs": [
    {
     "data": {
      "image/svg+xml": [
       "<?xml version=\"1.0\" encoding=\"UTF-8\" standalone=\"no\"?>\r\n",
       "<!DOCTYPE svg PUBLIC \"-//W3C//DTD SVG 1.1//EN\"\r\n",
       " \"http://www.w3.org/Graphics/SVG/1.1/DTD/svg11.dtd\">\r\n",
       "<!-- Generated by graphviz version 2.38.0 (20140413.2041)\r\n",
       " -->\r\n",
       "<!-- Title: %3 Pages: 1 -->\r\n",
       "<svg width=\"1278pt\" height=\"305pt\"\r\n",
       " viewBox=\"0.00 0.00 1278.29 305.00\" xmlns=\"http://www.w3.org/2000/svg\" xmlns:xlink=\"http://www.w3.org/1999/xlink\">\r\n",
       "<g id=\"graph0\" class=\"graph\" transform=\"scale(1 1) rotate(0) translate(4 301)\">\r\n",
       "<title>%3</title>\r\n",
       "<polygon fill=\"white\" stroke=\"none\" points=\"-4,4 -4,-301 1274.29,-301 1274.29,4 -4,4\"/>\r\n",
       "<!-- 0 -->\r\n",
       "<g id=\"node1\" class=\"node\"><title>0</title>\r\n",
       "<ellipse fill=\"none\" stroke=\"black\" cx=\"656.443\" cy=\"-279\" rx=\"44.393\" ry=\"18\"/>\r\n",
       "<text text-anchor=\"middle\" x=\"656.443\" y=\"-275.3\" font-family=\"Times New Roman,serif\" font-size=\"14.00\">age&lt;51.5</text>\r\n",
       "</g>\r\n",
       "<!-- 1 -->\r\n",
       "<g id=\"node2\" class=\"node\"><title>1</title>\r\n",
       "<ellipse fill=\"none\" stroke=\"black\" cx=\"523.443\" cy=\"-192\" rx=\"89.0842\" ry=\"18\"/>\r\n",
       "<text text-anchor=\"middle\" x=\"523.443\" y=\"-188.3\" font-family=\"Times New Roman,serif\" font-size=\"14.00\">region_southeast&lt;0.5</text>\r\n",
       "</g>\r\n",
       "<!-- 0&#45;&gt;1 -->\r\n",
       "<g id=\"edge1\" class=\"edge\"><title>0&#45;&gt;1</title>\r\n",
       "<path fill=\"none\" stroke=\"#0000ff\" d=\"M633.58,-263.388C612.677,-250.029 581.477,-230.089 557.615,-214.839\"/>\r\n",
       "<polygon fill=\"#0000ff\" stroke=\"#0000ff\" points=\"559.499,-211.889 549.188,-209.453 555.73,-217.788 559.499,-211.889\"/>\r\n",
       "<text text-anchor=\"middle\" x=\"632.943\" y=\"-231.8\" font-family=\"Times New Roman,serif\" font-size=\"14.00\">yes, missing</text>\r\n",
       "</g>\r\n",
       "<!-- 2 -->\r\n",
       "<g id=\"node3\" class=\"node\"><title>2</title>\r\n",
       "<ellipse fill=\"none\" stroke=\"black\" cx=\"755.443\" cy=\"-192\" rx=\"71.4873\" ry=\"18\"/>\r\n",
       "<text text-anchor=\"middle\" x=\"755.443\" y=\"-188.3\" font-family=\"Times New Roman,serif\" font-size=\"14.00\">smoker_yes&lt;0.5</text>\r\n",
       "</g>\r\n",
       "<!-- 0&#45;&gt;2 -->\r\n",
       "<g id=\"edge2\" class=\"edge\"><title>0&#45;&gt;2</title>\r\n",
       "<path fill=\"none\" stroke=\"#ff0000\" d=\"M674.602,-262.41C689.665,-249.477 711.305,-230.896 728.407,-216.214\"/>\r\n",
       "<polygon fill=\"#ff0000\" stroke=\"#ff0000\" points=\"731.081,-218.53 736.388,-209.361 726.521,-213.219 731.081,-218.53\"/>\r\n",
       "<text text-anchor=\"middle\" x=\"719.943\" y=\"-231.8\" font-family=\"Times New Roman,serif\" font-size=\"14.00\">no</text>\r\n",
       "</g>\r\n",
       "<!-- 3 -->\r\n",
       "<g id=\"node4\" class=\"node\"><title>3</title>\r\n",
       "<ellipse fill=\"none\" stroke=\"black\" cx=\"235.443\" cy=\"-105\" rx=\"44.393\" ry=\"18\"/>\r\n",
       "<text text-anchor=\"middle\" x=\"235.443\" y=\"-101.3\" font-family=\"Times New Roman,serif\" font-size=\"14.00\">age&lt;22.5</text>\r\n",
       "</g>\r\n",
       "<!-- 1&#45;&gt;3 -->\r\n",
       "<g id=\"edge3\" class=\"edge\"><title>1&#45;&gt;3</title>\r\n",
       "<path fill=\"none\" stroke=\"#0000ff\" d=\"M475.239,-176.773C420.781,-160.7 332.872,-134.755 279.976,-119.143\"/>\r\n",
       "<polygon fill=\"#0000ff\" stroke=\"#0000ff\" points=\"280.785,-115.733 270.203,-116.259 278.803,-122.447 280.785,-115.733\"/>\r\n",
       "<text text-anchor=\"middle\" x=\"431.943\" y=\"-144.8\" font-family=\"Times New Roman,serif\" font-size=\"14.00\">yes, missing</text>\r\n",
       "</g>\r\n",
       "<!-- 4 -->\r\n",
       "<g id=\"node5\" class=\"node\"><title>4</title>\r\n",
       "<ellipse fill=\"none\" stroke=\"black\" cx=\"523.443\" cy=\"-105\" rx=\"71.4873\" ry=\"18\"/>\r\n",
       "<text text-anchor=\"middle\" x=\"523.443\" y=\"-101.3\" font-family=\"Times New Roman,serif\" font-size=\"14.00\">smoker_yes&lt;0.5</text>\r\n",
       "</g>\r\n",
       "<!-- 1&#45;&gt;4 -->\r\n",
       "<g id=\"edge4\" class=\"edge\"><title>1&#45;&gt;4</title>\r\n",
       "<path fill=\"none\" stroke=\"#ff0000\" d=\"M523.443,-173.799C523.443,-162.163 523.443,-146.548 523.443,-133.237\"/>\r\n",
       "<polygon fill=\"#ff0000\" stroke=\"#ff0000\" points=\"526.944,-133.175 523.443,-123.175 519.944,-133.175 526.944,-133.175\"/>\r\n",
       "<text text-anchor=\"middle\" x=\"530.943\" y=\"-144.8\" font-family=\"Times New Roman,serif\" font-size=\"14.00\">no</text>\r\n",
       "</g>\r\n",
       "<!-- 5 -->\r\n",
       "<g id=\"node10\" class=\"node\"><title>5</title>\r\n",
       "<ellipse fill=\"none\" stroke=\"black\" cx=\"755.443\" cy=\"-105\" rx=\"89.0842\" ry=\"18\"/>\r\n",
       "<text text-anchor=\"middle\" x=\"755.443\" y=\"-101.3\" font-family=\"Times New Roman,serif\" font-size=\"14.00\">region_southeast&lt;0.5</text>\r\n",
       "</g>\r\n",
       "<!-- 2&#45;&gt;5 -->\r\n",
       "<g id=\"edge9\" class=\"edge\"><title>2&#45;&gt;5</title>\r\n",
       "<path fill=\"none\" stroke=\"#0000ff\" d=\"M755.443,-173.799C755.443,-162.163 755.443,-146.548 755.443,-133.237\"/>\r\n",
       "<polygon fill=\"#0000ff\" stroke=\"#0000ff\" points=\"758.944,-133.175 755.443,-123.175 751.944,-133.175 758.944,-133.175\"/>\r\n",
       "<text text-anchor=\"middle\" x=\"789.943\" y=\"-144.8\" font-family=\"Times New Roman,serif\" font-size=\"14.00\">yes, missing</text>\r\n",
       "</g>\r\n",
       "<!-- 6 -->\r\n",
       "<g id=\"node11\" class=\"node\"><title>6</title>\r\n",
       "<ellipse fill=\"none\" stroke=\"black\" cx=\"1039.44\" cy=\"-105\" rx=\"87.9851\" ry=\"18\"/>\r\n",
       "<text text-anchor=\"middle\" x=\"1039.44\" y=\"-101.3\" font-family=\"Times New Roman,serif\" font-size=\"14.00\">region_northeast&lt;0.5</text>\r\n",
       "</g>\r\n",
       "<!-- 2&#45;&gt;6 -->\r\n",
       "<g id=\"edge10\" class=\"edge\"><title>2&#45;&gt;6</title>\r\n",
       "<path fill=\"none\" stroke=\"#ff0000\" d=\"M799.507,-177.812C848.642,-163.106 928.28,-139.271 982.202,-123.132\"/>\r\n",
       "<polygon fill=\"#ff0000\" stroke=\"#ff0000\" points=\"983.381,-126.433 991.958,-120.212 981.374,-119.727 983.381,-126.433\"/>\r\n",
       "<text text-anchor=\"middle\" x=\"922.943\" y=\"-144.8\" font-family=\"Times New Roman,serif\" font-size=\"14.00\">no</text>\r\n",
       "</g>\r\n",
       "<!-- 7 -->\r\n",
       "<g id=\"node6\" class=\"node\"><title>7</title>\r\n",
       "<ellipse fill=\"none\" stroke=\"black\" cx=\"73.4435\" cy=\"-18\" rx=\"73.387\" ry=\"18\"/>\r\n",
       "<text text-anchor=\"middle\" x=\"73.4435\" y=\"-14.3\" font-family=\"Times New Roman,serif\" font-size=\"14.00\">leaf=&#45;34.6923485</text>\r\n",
       "</g>\r\n",
       "<!-- 3&#45;&gt;7 -->\r\n",
       "<g id=\"edge5\" class=\"edge\"><title>3&#45;&gt;7</title>\r\n",
       "<path fill=\"none\" stroke=\"#0000ff\" d=\"M207.154,-90.959C193.535,-84.5485 177.034,-76.5859 162.443,-69 144.83,-59.842 125.59,-49.1254 109.52,-39.9676\"/>\r\n",
       "<polygon fill=\"#0000ff\" stroke=\"#0000ff\" points=\"110.878,-36.7118 100.461,-34.7792 107.399,-42.7862 110.878,-36.7118\"/>\r\n",
       "<text text-anchor=\"middle\" x=\"196.943\" y=\"-57.8\" font-family=\"Times New Roman,serif\" font-size=\"14.00\">yes, missing</text>\r\n",
       "</g>\r\n",
       "<!-- 8 -->\r\n",
       "<g id=\"node7\" class=\"node\"><title>8</title>\r\n",
       "<ellipse fill=\"none\" stroke=\"black\" cx=\"235.443\" cy=\"-18\" rx=\"70.6878\" ry=\"18\"/>\r\n",
       "<text text-anchor=\"middle\" x=\"235.443\" y=\"-14.3\" font-family=\"Times New Roman,serif\" font-size=\"14.00\">leaf=23.1799736</text>\r\n",
       "</g>\r\n",
       "<!-- 3&#45;&gt;8 -->\r\n",
       "<g id=\"edge6\" class=\"edge\"><title>3&#45;&gt;8</title>\r\n",
       "<path fill=\"none\" stroke=\"#ff0000\" d=\"M235.443,-86.799C235.443,-75.1626 235.443,-59.5479 235.443,-46.2368\"/>\r\n",
       "<polygon fill=\"#ff0000\" stroke=\"#ff0000\" points=\"238.944,-46.1754 235.443,-36.1754 231.944,-46.1755 238.944,-46.1754\"/>\r\n",
       "<text text-anchor=\"middle\" x=\"242.943\" y=\"-57.8\" font-family=\"Times New Roman,serif\" font-size=\"14.00\">no</text>\r\n",
       "</g>\r\n",
       "<!-- 9 -->\r\n",
       "<g id=\"node8\" class=\"node\"><title>9</title>\r\n",
       "<ellipse fill=\"none\" stroke=\"black\" cx=\"397.443\" cy=\"-18\" rx=\"73.387\" ry=\"18\"/>\r\n",
       "<text text-anchor=\"middle\" x=\"397.443\" y=\"-14.3\" font-family=\"Times New Roman,serif\" font-size=\"14.00\">leaf=&#45;45.4326096</text>\r\n",
       "</g>\r\n",
       "<!-- 4&#45;&gt;9 -->\r\n",
       "<g id=\"edge7\" class=\"edge\"><title>4&#45;&gt;9</title>\r\n",
       "<path fill=\"none\" stroke=\"#0000ff\" d=\"M496.786,-88.2094C487.126,-82.3364 476.197,-75.5144 466.443,-69 453.476,-60.3384 439.488,-50.3321 427.519,-41.5573\"/>\r\n",
       "<polygon fill=\"#0000ff\" stroke=\"#0000ff\" points=\"429.329,-38.5431 419.204,-35.4223 425.173,-44.1758 429.329,-38.5431\"/>\r\n",
       "<text text-anchor=\"middle\" x=\"500.943\" y=\"-57.8\" font-family=\"Times New Roman,serif\" font-size=\"14.00\">yes, missing</text>\r\n",
       "</g>\r\n",
       "<!-- 10 -->\r\n",
       "<g id=\"node9\" class=\"node\"><title>10</title>\r\n",
       "<ellipse fill=\"none\" stroke=\"black\" cx=\"559.443\" cy=\"-18\" rx=\"70.6878\" ry=\"18\"/>\r\n",
       "<text text-anchor=\"middle\" x=\"559.443\" y=\"-14.3\" font-family=\"Times New Roman,serif\" font-size=\"14.00\">leaf=19.5346889</text>\r\n",
       "</g>\r\n",
       "<!-- 4&#45;&gt;10 -->\r\n",
       "<g id=\"edge8\" class=\"edge\"><title>4&#45;&gt;10</title>\r\n",
       "<path fill=\"none\" stroke=\"#ff0000\" d=\"M530.729,-86.799C535.755,-74.9322 542.533,-58.9279 548.242,-45.4488\"/>\r\n",
       "<polygon fill=\"#ff0000\" stroke=\"#ff0000\" points=\"551.492,-46.7486 552.169,-36.1754 545.046,-44.0186 551.492,-46.7486\"/>\r\n",
       "<text text-anchor=\"middle\" x=\"551.943\" y=\"-57.8\" font-family=\"Times New Roman,serif\" font-size=\"14.00\">no</text>\r\n",
       "</g>\r\n",
       "<!-- 11 -->\r\n",
       "<g id=\"node12\" class=\"node\"><title>11</title>\r\n",
       "<ellipse fill=\"none\" stroke=\"black\" cx=\"719.443\" cy=\"-18\" rx=\"70.6878\" ry=\"18\"/>\r\n",
       "<text text-anchor=\"middle\" x=\"719.443\" y=\"-14.3\" font-family=\"Times New Roman,serif\" font-size=\"14.00\">leaf=9.26495934</text>\r\n",
       "</g>\r\n",
       "<!-- 5&#45;&gt;11 -->\r\n",
       "<g id=\"edge11\" class=\"edge\"><title>5&#45;&gt;11</title>\r\n",
       "<path fill=\"none\" stroke=\"#0000ff\" d=\"M748.158,-86.799C743.132,-74.9322 736.354,-58.9279 730.645,-45.4488\"/>\r\n",
       "<polygon fill=\"#0000ff\" stroke=\"#0000ff\" points=\"733.841,-44.0186 726.718,-36.1754 727.395,-46.7486 733.841,-44.0186\"/>\r\n",
       "<text text-anchor=\"middle\" x=\"774.943\" y=\"-57.8\" font-family=\"Times New Roman,serif\" font-size=\"14.00\">yes, missing</text>\r\n",
       "</g>\r\n",
       "<!-- 12 -->\r\n",
       "<g id=\"node13\" class=\"node\"><title>12</title>\r\n",
       "<ellipse fill=\"none\" stroke=\"black\" cx=\"879.443\" cy=\"-18\" rx=\"70.6878\" ry=\"18\"/>\r\n",
       "<text text-anchor=\"middle\" x=\"879.443\" y=\"-14.3\" font-family=\"Times New Roman,serif\" font-size=\"14.00\">leaf=95.6510544</text>\r\n",
       "</g>\r\n",
       "<!-- 5&#45;&gt;12 -->\r\n",
       "<g id=\"edge12\" class=\"edge\"><title>5&#45;&gt;12</title>\r\n",
       "<path fill=\"none\" stroke=\"#ff0000\" d=\"M783.549,-87.8498C793.167,-82.1109 803.903,-75.4663 813.443,-69 826.083,-60.4334 839.596,-50.3679 851.082,-41.522\"/>\r\n",
       "<polygon fill=\"#ff0000\" stroke=\"#ff0000\" points=\"853.296,-44.2343 859.046,-35.3353 849.001,-38.7063 853.296,-44.2343\"/>\r\n",
       "<text text-anchor=\"middle\" x=\"841.943\" y=\"-57.8\" font-family=\"Times New Roman,serif\" font-size=\"14.00\">no</text>\r\n",
       "</g>\r\n",
       "<!-- 13 -->\r\n",
       "<g id=\"node14\" class=\"node\"><title>13</title>\r\n",
       "<ellipse fill=\"none\" stroke=\"black\" cx=\"1039.44\" cy=\"-18\" rx=\"70.6878\" ry=\"18\"/>\r\n",
       "<text text-anchor=\"middle\" x=\"1039.44\" y=\"-14.3\" font-family=\"Times New Roman,serif\" font-size=\"14.00\">leaf=152.273529</text>\r\n",
       "</g>\r\n",
       "<!-- 6&#45;&gt;13 -->\r\n",
       "<g id=\"edge13\" class=\"edge\"><title>6&#45;&gt;13</title>\r\n",
       "<path fill=\"none\" stroke=\"#0000ff\" d=\"M1039.44,-86.799C1039.44,-75.1626 1039.44,-59.5479 1039.44,-46.2368\"/>\r\n",
       "<polygon fill=\"#0000ff\" stroke=\"#0000ff\" points=\"1042.94,-46.1754 1039.44,-36.1754 1035.94,-46.1755 1042.94,-46.1754\"/>\r\n",
       "<text text-anchor=\"middle\" x=\"1073.94\" y=\"-57.8\" font-family=\"Times New Roman,serif\" font-size=\"14.00\">yes, missing</text>\r\n",
       "</g>\r\n",
       "<!-- 14 -->\r\n",
       "<g id=\"node15\" class=\"node\"><title>14</title>\r\n",
       "<ellipse fill=\"none\" stroke=\"black\" cx=\"1199.44\" cy=\"-18\" rx=\"70.6878\" ry=\"18\"/>\r\n",
       "<text text-anchor=\"middle\" x=\"1199.44\" y=\"-14.3\" font-family=\"Times New Roman,serif\" font-size=\"14.00\">leaf=38.3455009</text>\r\n",
       "</g>\r\n",
       "<!-- 6&#45;&gt;14 -->\r\n",
       "<g id=\"edge14\" class=\"edge\"><title>6&#45;&gt;14</title>\r\n",
       "<path fill=\"none\" stroke=\"#ff0000\" d=\"M1073.5,-88.3144C1085.87,-82.4521 1099.88,-75.6099 1112.44,-69 1129.71,-59.9136 1148.53,-49.206 1164.23,-40.0355\"/>\r\n",
       "<polygon fill=\"#ff0000\" stroke=\"#ff0000\" points=\"1166.23,-42.9204 1173.08,-34.8376 1162.68,-36.8847 1166.23,-42.9204\"/>\r\n",
       "<text text-anchor=\"middle\" x=\"1146.94\" y=\"-57.8\" font-family=\"Times New Roman,serif\" font-size=\"14.00\">no</text>\r\n",
       "</g>\r\n",
       "</g>\r\n",
       "</svg>\r\n"
      ],
      "text/plain": [
       "<graphviz.files.Source at 0x2948cdf0828>"
      ]
     },
     "execution_count": 49,
     "metadata": {},
     "output_type": "execute_result"
    }
   ],
   "source": [
    "xgb.to_graphviz(fit_gs, num_trees=49)"
   ]
  },
  {
   "cell_type": "markdown",
   "metadata": {},
   "source": [
    "#### Test out a prediction"
   ]
  },
  {
   "cell_type": "code",
   "execution_count": 65,
   "metadata": {},
   "outputs": [
    {
     "data": {
      "text/plain": [
       "age                    64.00000\n",
       "bmi                    24.70000\n",
       "children                1.00000\n",
       "charges             30166.61817\n",
       "sex_female              0.00000\n",
       "sex_male                1.00000\n",
       "smoker_no               1.00000\n",
       "smoker_yes              0.00000\n",
       "region_northeast        0.00000\n",
       "region_northwest        1.00000\n",
       "region_southeast        0.00000\n",
       "region_southwest        0.00000\n",
       "Name: 62, dtype: float64"
      ]
     },
     "execution_count": 65,
     "metadata": {},
     "output_type": "execute_result"
    }
   ],
   "source": [
    "# get max charge row\n",
    "max_charge_row = df.loc[df['age'].idxmax()]\n",
    "max_charge_row"
   ]
  },
  {
   "cell_type": "markdown",
   "metadata": {},
   "source": [
    "Create new test record similar to max charge record"
   ]
  },
  {
   "cell_type": "code",
   "execution_count": 66,
   "metadata": {},
   "outputs": [],
   "source": [
    "new_rec_df = pd.DataFrame(max_charge_row)"
   ]
  },
  {
   "cell_type": "code",
   "execution_count": 67,
   "metadata": {},
   "outputs": [],
   "source": [
    "new_rec_2_df = new_rec_df.transpose()\n",
    "new_rec_2_df = new_rec_2_df.loc[:, new_rec_2_df.columns != 'charges']"
   ]
  },
  {
   "cell_type": "code",
   "execution_count": 68,
   "metadata": {},
   "outputs": [],
   "source": [
    "# Change input values, if needed\n",
    "#new_rec_2_df.at[1316, 'age'] = 18\n",
    "#new_rec_2_df.at[1316, 'bmi'] = 53"
   ]
  },
  {
   "cell_type": "code",
   "execution_count": 69,
   "metadata": {},
   "outputs": [
    {
     "data": {
      "text/html": [
       "<div>\n",
       "<style scoped>\n",
       "    .dataframe tbody tr th:only-of-type {\n",
       "        vertical-align: middle;\n",
       "    }\n",
       "\n",
       "    .dataframe tbody tr th {\n",
       "        vertical-align: top;\n",
       "    }\n",
       "\n",
       "    .dataframe thead th {\n",
       "        text-align: right;\n",
       "    }\n",
       "</style>\n",
       "<table border=\"1\" class=\"dataframe\">\n",
       "  <thead>\n",
       "    <tr style=\"text-align: right;\">\n",
       "      <th></th>\n",
       "      <th>age</th>\n",
       "      <th>bmi</th>\n",
       "      <th>children</th>\n",
       "      <th>sex_female</th>\n",
       "      <th>sex_male</th>\n",
       "      <th>smoker_no</th>\n",
       "      <th>smoker_yes</th>\n",
       "      <th>region_northeast</th>\n",
       "      <th>region_northwest</th>\n",
       "      <th>region_southeast</th>\n",
       "      <th>region_southwest</th>\n",
       "    </tr>\n",
       "  </thead>\n",
       "  <tbody>\n",
       "    <tr>\n",
       "      <th>62</th>\n",
       "      <td>64.0</td>\n",
       "      <td>24.7</td>\n",
       "      <td>1.0</td>\n",
       "      <td>0.0</td>\n",
       "      <td>1.0</td>\n",
       "      <td>1.0</td>\n",
       "      <td>0.0</td>\n",
       "      <td>0.0</td>\n",
       "      <td>1.0</td>\n",
       "      <td>0.0</td>\n",
       "      <td>0.0</td>\n",
       "    </tr>\n",
       "  </tbody>\n",
       "</table>\n",
       "</div>"
      ],
      "text/plain": [
       "     age   bmi  children  sex_female  sex_male  smoker_no  smoker_yes  \\\n",
       "62  64.0  24.7       1.0         0.0       1.0        1.0         0.0   \n",
       "\n",
       "    region_northeast  region_northwest  region_southeast  region_southwest  \n",
       "62               0.0               1.0               0.0               0.0  "
      ]
     },
     "execution_count": 69,
     "metadata": {},
     "output_type": "execute_result"
    }
   ],
   "source": [
    "new_rec_2_df"
   ]
  },
  {
   "cell_type": "markdown",
   "metadata": {},
   "source": [
    "Predict on the new record"
   ]
  },
  {
   "cell_type": "code",
   "execution_count": 70,
   "metadata": {},
   "outputs": [],
   "source": [
    "new_pred = fit_gs.predict(new_rec_2_df)"
   ]
  },
  {
   "cell_type": "code",
   "execution_count": 71,
   "metadata": {},
   "outputs": [
    {
     "data": {
      "text/plain": [
       "array([15449.6455], dtype=float32)"
      ]
     },
     "execution_count": 71,
     "metadata": {},
     "output_type": "execute_result"
    }
   ],
   "source": [
    "new_pred"
   ]
  }
 ],
 "metadata": {
  "kernelspec": {
   "display_name": "Python 3",
   "language": "python",
   "name": "python3"
  },
  "language_info": {
   "codemirror_mode": {
    "name": "ipython",
    "version": 3
   },
   "file_extension": ".py",
   "mimetype": "text/x-python",
   "name": "python",
   "nbconvert_exporter": "python",
   "pygments_lexer": "ipython3",
   "version": "3.7.1"
  }
 },
 "nbformat": 4,
 "nbformat_minor": 4
}
