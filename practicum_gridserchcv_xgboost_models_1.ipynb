{
 "cells": [
  {
   "cell_type": "markdown",
   "metadata": {},
   "source": [
    "# Predicting Health Charges"
   ]
  },
  {
   "cell_type": "markdown",
   "metadata": {},
   "source": [
    "#### Chris Richards\n",
    "#### Practicum 1, Summer 2020\n",
    "#### Regis University"
   ]
  },
  {
   "cell_type": "markdown",
   "metadata": {},
   "source": [
    "### GridSearchCV with XGBoost Regression"
   ]
  },
  {
   "cell_type": "code",
   "execution_count": 31,
   "metadata": {},
   "outputs": [],
   "source": [
    "import numpy as np\n",
    "import pandas as pd\n",
    "import seaborn as sns\n",
    "from scipy import stats\n",
    "import matplotlib.pyplot as plt\n",
    "import graphviz\n",
    "\n",
    "from sklearn.model_selection import GridSearchCV\n",
    "from sklearn import metrics\n",
    "from sklearn.metrics import mean_squared_error, r2_score, accuracy_score\n",
    "from sklearn.model_selection import train_test_split\n",
    "\n",
    "import xgboost as xgb"
   ]
  },
  {
   "cell_type": "code",
   "execution_count": 32,
   "metadata": {},
   "outputs": [],
   "source": [
    "df = pd.read_csv(r\"E:\\Regis\\Practicum_1\\df_2_all_features.csv\")\n",
    "df_profile = df"
   ]
  },
  {
   "cell_type": "code",
   "execution_count": 33,
   "metadata": {
    "collapsed": true,
    "jupyter": {
     "outputs_hidden": true
    }
   },
   "outputs": [
    {
     "name": "stdout",
     "output_type": "stream",
     "text": [
      "<class 'pandas.core.frame.DataFrame'>\n",
      "RangeIndex: 1337 entries, 0 to 1336\n",
      "Data columns (total 12 columns):\n",
      " #   Column            Non-Null Count  Dtype  \n",
      "---  ------            --------------  -----  \n",
      " 0   age               1337 non-null   int64  \n",
      " 1   bmi               1337 non-null   float64\n",
      " 2   children          1337 non-null   int64  \n",
      " 3   charges           1337 non-null   float64\n",
      " 4   sex_female        1337 non-null   int64  \n",
      " 5   sex_male          1337 non-null   int64  \n",
      " 6   smoker_no         1337 non-null   int64  \n",
      " 7   smoker_yes        1337 non-null   int64  \n",
      " 8   region_northeast  1337 non-null   int64  \n",
      " 9   region_northwest  1337 non-null   int64  \n",
      " 10  region_southeast  1337 non-null   int64  \n",
      " 11  region_southwest  1337 non-null   int64  \n",
      "dtypes: float64(2), int64(10)\n",
      "memory usage: 125.5 KB\n",
      "None\n",
      "               age          bmi     children       charges   sex_female  \\\n",
      "count  1337.000000  1337.000000  1337.000000   1337.000000  1337.000000   \n",
      "mean     39.222139    30.663452     1.095737  13279.121487     0.495138   \n",
      "std      14.044333     6.100468     1.205571  12110.359656     0.500163   \n",
      "min      18.000000    15.960000     0.000000   1121.873900     0.000000   \n",
      "25%      27.000000    26.290000     0.000000   4746.344000     0.000000   \n",
      "50%      39.000000    30.400000     1.000000   9386.161300     0.000000   \n",
      "75%      51.000000    34.700000     2.000000  16657.717450     1.000000   \n",
      "max      64.000000    53.130000     5.000000  63770.428010     1.000000   \n",
      "\n",
      "          sex_male    smoker_no   smoker_yes  region_northeast  \\\n",
      "count  1337.000000  1337.000000  1337.000000       1337.000000   \n",
      "mean      0.504862     0.795064     0.204936          0.242334   \n",
      "std       0.500163     0.403806     0.403806          0.428655   \n",
      "min       0.000000     0.000000     0.000000          0.000000   \n",
      "25%       0.000000     1.000000     0.000000          0.000000   \n",
      "50%       1.000000     1.000000     0.000000          0.000000   \n",
      "75%       1.000000     1.000000     0.000000          0.000000   \n",
      "max       1.000000     1.000000     1.000000          1.000000   \n",
      "\n",
      "       region_northwest  region_southeast  region_southwest  \n",
      "count       1337.000000       1337.000000       1337.000000  \n",
      "mean           0.242334          0.272251          0.243082  \n",
      "std            0.428655          0.445285          0.429104  \n",
      "min            0.000000          0.000000          0.000000  \n",
      "25%            0.000000          0.000000          0.000000  \n",
      "50%            0.000000          0.000000          0.000000  \n",
      "75%            0.000000          1.000000          0.000000  \n",
      "max            1.000000          1.000000          1.000000  \n"
     ]
    }
   ],
   "source": [
    "print(df.info())\n",
    "print(df.describe())"
   ]
  },
  {
   "cell_type": "markdown",
   "metadata": {},
   "source": [
    "#### Split the data into the test and train sets\n",
    "The test size is set to 30% of the set.  A random seed of 1179 is set for reproducibility.  "
   ]
  },
  {
   "cell_type": "code",
   "execution_count": 34,
   "metadata": {},
   "outputs": [],
   "source": [
    "#X = df.filter(items=['age', 'bmi', 'smoker_no', 'smoker_yes'])\n",
    "X = df.loc[:, df.columns != 'charges'] # select all columns except for charges\n",
    "y = df['charges']"
   ]
  },
  {
   "cell_type": "code",
   "execution_count": 35,
   "metadata": {},
   "outputs": [],
   "source": [
    "X_train, X_test, y_train, y_test = train_test_split(X, y, test_size=0.3, random_state=1179)"
   ]
  },
  {
   "cell_type": "code",
   "execution_count": 36,
   "metadata": {
    "collapsed": true,
    "jupyter": {
     "outputs_hidden": true
    }
   },
   "outputs": [
    {
     "data": {
      "text/html": [
       "<div>\n",
       "<style scoped>\n",
       "    .dataframe tbody tr th:only-of-type {\n",
       "        vertical-align: middle;\n",
       "    }\n",
       "\n",
       "    .dataframe tbody tr th {\n",
       "        vertical-align: top;\n",
       "    }\n",
       "\n",
       "    .dataframe thead th {\n",
       "        text-align: right;\n",
       "    }\n",
       "</style>\n",
       "<table border=\"1\" class=\"dataframe\">\n",
       "  <thead>\n",
       "    <tr style=\"text-align: right;\">\n",
       "      <th></th>\n",
       "      <th>age</th>\n",
       "      <th>bmi</th>\n",
       "      <th>children</th>\n",
       "      <th>sex_female</th>\n",
       "      <th>sex_male</th>\n",
       "      <th>smoker_no</th>\n",
       "      <th>smoker_yes</th>\n",
       "      <th>region_northeast</th>\n",
       "      <th>region_northwest</th>\n",
       "      <th>region_southeast</th>\n",
       "      <th>region_southwest</th>\n",
       "    </tr>\n",
       "  </thead>\n",
       "  <tbody>\n",
       "    <tr>\n",
       "      <th>171</th>\n",
       "      <td>49</td>\n",
       "      <td>30.300</td>\n",
       "      <td>0</td>\n",
       "      <td>0</td>\n",
       "      <td>1</td>\n",
       "      <td>1</td>\n",
       "      <td>0</td>\n",
       "      <td>0</td>\n",
       "      <td>0</td>\n",
       "      <td>0</td>\n",
       "      <td>1</td>\n",
       "    </tr>\n",
       "    <tr>\n",
       "      <th>395</th>\n",
       "      <td>46</td>\n",
       "      <td>19.855</td>\n",
       "      <td>0</td>\n",
       "      <td>0</td>\n",
       "      <td>1</td>\n",
       "      <td>1</td>\n",
       "      <td>0</td>\n",
       "      <td>0</td>\n",
       "      <td>1</td>\n",
       "      <td>0</td>\n",
       "      <td>0</td>\n",
       "    </tr>\n",
       "    <tr>\n",
       "      <th>408</th>\n",
       "      <td>38</td>\n",
       "      <td>21.120</td>\n",
       "      <td>3</td>\n",
       "      <td>0</td>\n",
       "      <td>1</td>\n",
       "      <td>1</td>\n",
       "      <td>0</td>\n",
       "      <td>0</td>\n",
       "      <td>0</td>\n",
       "      <td>1</td>\n",
       "      <td>0</td>\n",
       "    </tr>\n",
       "    <tr>\n",
       "      <th>1238</th>\n",
       "      <td>25</td>\n",
       "      <td>42.130</td>\n",
       "      <td>1</td>\n",
       "      <td>1</td>\n",
       "      <td>0</td>\n",
       "      <td>1</td>\n",
       "      <td>0</td>\n",
       "      <td>0</td>\n",
       "      <td>0</td>\n",
       "      <td>1</td>\n",
       "      <td>0</td>\n",
       "    </tr>\n",
       "    <tr>\n",
       "      <th>76</th>\n",
       "      <td>29</td>\n",
       "      <td>29.590</td>\n",
       "      <td>1</td>\n",
       "      <td>1</td>\n",
       "      <td>0</td>\n",
       "      <td>1</td>\n",
       "      <td>0</td>\n",
       "      <td>0</td>\n",
       "      <td>0</td>\n",
       "      <td>1</td>\n",
       "      <td>0</td>\n",
       "    </tr>\n",
       "    <tr>\n",
       "      <th>...</th>\n",
       "      <td>...</td>\n",
       "      <td>...</td>\n",
       "      <td>...</td>\n",
       "      <td>...</td>\n",
       "      <td>...</td>\n",
       "      <td>...</td>\n",
       "      <td>...</td>\n",
       "      <td>...</td>\n",
       "      <td>...</td>\n",
       "      <td>...</td>\n",
       "      <td>...</td>\n",
       "    </tr>\n",
       "    <tr>\n",
       "      <th>1118</th>\n",
       "      <td>30</td>\n",
       "      <td>19.950</td>\n",
       "      <td>3</td>\n",
       "      <td>1</td>\n",
       "      <td>0</td>\n",
       "      <td>1</td>\n",
       "      <td>0</td>\n",
       "      <td>0</td>\n",
       "      <td>1</td>\n",
       "      <td>0</td>\n",
       "      <td>0</td>\n",
       "    </tr>\n",
       "    <tr>\n",
       "      <th>914</th>\n",
       "      <td>24</td>\n",
       "      <td>33.990</td>\n",
       "      <td>0</td>\n",
       "      <td>1</td>\n",
       "      <td>0</td>\n",
       "      <td>1</td>\n",
       "      <td>0</td>\n",
       "      <td>0</td>\n",
       "      <td>0</td>\n",
       "      <td>1</td>\n",
       "      <td>0</td>\n",
       "    </tr>\n",
       "    <tr>\n",
       "      <th>825</th>\n",
       "      <td>56</td>\n",
       "      <td>31.790</td>\n",
       "      <td>2</td>\n",
       "      <td>0</td>\n",
       "      <td>1</td>\n",
       "      <td>0</td>\n",
       "      <td>1</td>\n",
       "      <td>0</td>\n",
       "      <td>0</td>\n",
       "      <td>1</td>\n",
       "      <td>0</td>\n",
       "    </tr>\n",
       "    <tr>\n",
       "      <th>928</th>\n",
       "      <td>41</td>\n",
       "      <td>34.210</td>\n",
       "      <td>1</td>\n",
       "      <td>0</td>\n",
       "      <td>1</td>\n",
       "      <td>1</td>\n",
       "      <td>0</td>\n",
       "      <td>0</td>\n",
       "      <td>0</td>\n",
       "      <td>1</td>\n",
       "      <td>0</td>\n",
       "    </tr>\n",
       "    <tr>\n",
       "      <th>655</th>\n",
       "      <td>26</td>\n",
       "      <td>42.400</td>\n",
       "      <td>1</td>\n",
       "      <td>1</td>\n",
       "      <td>0</td>\n",
       "      <td>1</td>\n",
       "      <td>0</td>\n",
       "      <td>0</td>\n",
       "      <td>0</td>\n",
       "      <td>0</td>\n",
       "      <td>1</td>\n",
       "    </tr>\n",
       "  </tbody>\n",
       "</table>\n",
       "<p>935 rows × 11 columns</p>\n",
       "</div>"
      ],
      "text/plain": [
       "      age     bmi  children  sex_female  sex_male  smoker_no  smoker_yes  \\\n",
       "171    49  30.300         0           0         1          1           0   \n",
       "395    46  19.855         0           0         1          1           0   \n",
       "408    38  21.120         3           0         1          1           0   \n",
       "1238   25  42.130         1           1         0          1           0   \n",
       "76     29  29.590         1           1         0          1           0   \n",
       "...   ...     ...       ...         ...       ...        ...         ...   \n",
       "1118   30  19.950         3           1         0          1           0   \n",
       "914    24  33.990         0           1         0          1           0   \n",
       "825    56  31.790         2           0         1          0           1   \n",
       "928    41  34.210         1           0         1          1           0   \n",
       "655    26  42.400         1           1         0          1           0   \n",
       "\n",
       "      region_northeast  region_northwest  region_southeast  region_southwest  \n",
       "171                  0                 0                 0                 1  \n",
       "395                  0                 1                 0                 0  \n",
       "408                  0                 0                 1                 0  \n",
       "1238                 0                 0                 1                 0  \n",
       "76                   0                 0                 1                 0  \n",
       "...                ...               ...               ...               ...  \n",
       "1118                 0                 1                 0                 0  \n",
       "914                  0                 0                 1                 0  \n",
       "825                  0                 0                 1                 0  \n",
       "928                  0                 0                 1                 0  \n",
       "655                  0                 0                 0                 1  \n",
       "\n",
       "[935 rows x 11 columns]"
      ]
     },
     "execution_count": 36,
     "metadata": {},
     "output_type": "execute_result"
    }
   ],
   "source": [
    "X_train"
   ]
  },
  {
   "cell_type": "code",
   "execution_count": 37,
   "metadata": {
    "collapsed": true,
    "jupyter": {
     "outputs_hidden": true
    }
   },
   "outputs": [
    {
     "data": {
      "text/plain": [
       "171      8116.68000\n",
       "395      7526.70645\n",
       "408      6652.52880\n",
       "1238     3238.43570\n",
       "76       3947.41310\n",
       "           ...     \n",
       "1118     5693.43050\n",
       "914      2473.33410\n",
       "825     43813.86610\n",
       "928      6289.75490\n",
       "655      3410.32400\n",
       "Name: charges, Length: 935, dtype: float64"
      ]
     },
     "execution_count": 37,
     "metadata": {},
     "output_type": "execute_result"
    }
   ],
   "source": [
    "y_train"
   ]
  },
  {
   "cell_type": "code",
   "execution_count": 38,
   "metadata": {
    "collapsed": true,
    "jupyter": {
     "outputs_hidden": true
    }
   },
   "outputs": [
    {
     "data": {
      "text/html": [
       "<div>\n",
       "<style scoped>\n",
       "    .dataframe tbody tr th:only-of-type {\n",
       "        vertical-align: middle;\n",
       "    }\n",
       "\n",
       "    .dataframe tbody tr th {\n",
       "        vertical-align: top;\n",
       "    }\n",
       "\n",
       "    .dataframe thead th {\n",
       "        text-align: right;\n",
       "    }\n",
       "</style>\n",
       "<table border=\"1\" class=\"dataframe\">\n",
       "  <thead>\n",
       "    <tr style=\"text-align: right;\">\n",
       "      <th></th>\n",
       "      <th>age</th>\n",
       "      <th>bmi</th>\n",
       "      <th>children</th>\n",
       "      <th>sex_female</th>\n",
       "      <th>sex_male</th>\n",
       "      <th>smoker_no</th>\n",
       "      <th>smoker_yes</th>\n",
       "      <th>region_northeast</th>\n",
       "      <th>region_northwest</th>\n",
       "      <th>region_southeast</th>\n",
       "      <th>region_southwest</th>\n",
       "    </tr>\n",
       "  </thead>\n",
       "  <tbody>\n",
       "    <tr>\n",
       "      <th>410</th>\n",
       "      <td>19</td>\n",
       "      <td>17.480</td>\n",
       "      <td>0</td>\n",
       "      <td>0</td>\n",
       "      <td>1</td>\n",
       "      <td>1</td>\n",
       "      <td>0</td>\n",
       "      <td>0</td>\n",
       "      <td>1</td>\n",
       "      <td>0</td>\n",
       "      <td>0</td>\n",
       "    </tr>\n",
       "    <tr>\n",
       "      <th>1264</th>\n",
       "      <td>64</td>\n",
       "      <td>23.760</td>\n",
       "      <td>0</td>\n",
       "      <td>0</td>\n",
       "      <td>1</td>\n",
       "      <td>0</td>\n",
       "      <td>1</td>\n",
       "      <td>0</td>\n",
       "      <td>0</td>\n",
       "      <td>1</td>\n",
       "      <td>0</td>\n",
       "    </tr>\n",
       "    <tr>\n",
       "      <th>454</th>\n",
       "      <td>32</td>\n",
       "      <td>46.530</td>\n",
       "      <td>2</td>\n",
       "      <td>0</td>\n",
       "      <td>1</td>\n",
       "      <td>1</td>\n",
       "      <td>0</td>\n",
       "      <td>0</td>\n",
       "      <td>0</td>\n",
       "      <td>1</td>\n",
       "      <td>0</td>\n",
       "    </tr>\n",
       "    <tr>\n",
       "      <th>781</th>\n",
       "      <td>51</td>\n",
       "      <td>35.970</td>\n",
       "      <td>1</td>\n",
       "      <td>0</td>\n",
       "      <td>1</td>\n",
       "      <td>1</td>\n",
       "      <td>0</td>\n",
       "      <td>0</td>\n",
       "      <td>0</td>\n",
       "      <td>1</td>\n",
       "      <td>0</td>\n",
       "    </tr>\n",
       "    <tr>\n",
       "      <th>279</th>\n",
       "      <td>51</td>\n",
       "      <td>21.560</td>\n",
       "      <td>1</td>\n",
       "      <td>1</td>\n",
       "      <td>0</td>\n",
       "      <td>1</td>\n",
       "      <td>0</td>\n",
       "      <td>0</td>\n",
       "      <td>0</td>\n",
       "      <td>1</td>\n",
       "      <td>0</td>\n",
       "    </tr>\n",
       "    <tr>\n",
       "      <th>...</th>\n",
       "      <td>...</td>\n",
       "      <td>...</td>\n",
       "      <td>...</td>\n",
       "      <td>...</td>\n",
       "      <td>...</td>\n",
       "      <td>...</td>\n",
       "      <td>...</td>\n",
       "      <td>...</td>\n",
       "      <td>...</td>\n",
       "      <td>...</td>\n",
       "      <td>...</td>\n",
       "    </tr>\n",
       "    <tr>\n",
       "      <th>48</th>\n",
       "      <td>60</td>\n",
       "      <td>24.530</td>\n",
       "      <td>0</td>\n",
       "      <td>1</td>\n",
       "      <td>0</td>\n",
       "      <td>1</td>\n",
       "      <td>0</td>\n",
       "      <td>0</td>\n",
       "      <td>0</td>\n",
       "      <td>1</td>\n",
       "      <td>0</td>\n",
       "    </tr>\n",
       "    <tr>\n",
       "      <th>631</th>\n",
       "      <td>29</td>\n",
       "      <td>35.530</td>\n",
       "      <td>0</td>\n",
       "      <td>1</td>\n",
       "      <td>0</td>\n",
       "      <td>1</td>\n",
       "      <td>0</td>\n",
       "      <td>0</td>\n",
       "      <td>0</td>\n",
       "      <td>1</td>\n",
       "      <td>0</td>\n",
       "    </tr>\n",
       "    <tr>\n",
       "      <th>290</th>\n",
       "      <td>28</td>\n",
       "      <td>33.400</td>\n",
       "      <td>0</td>\n",
       "      <td>1</td>\n",
       "      <td>0</td>\n",
       "      <td>1</td>\n",
       "      <td>0</td>\n",
       "      <td>0</td>\n",
       "      <td>0</td>\n",
       "      <td>0</td>\n",
       "      <td>1</td>\n",
       "    </tr>\n",
       "    <tr>\n",
       "      <th>368</th>\n",
       "      <td>44</td>\n",
       "      <td>32.015</td>\n",
       "      <td>2</td>\n",
       "      <td>0</td>\n",
       "      <td>1</td>\n",
       "      <td>1</td>\n",
       "      <td>0</td>\n",
       "      <td>0</td>\n",
       "      <td>1</td>\n",
       "      <td>0</td>\n",
       "      <td>0</td>\n",
       "    </tr>\n",
       "    <tr>\n",
       "      <th>581</th>\n",
       "      <td>39</td>\n",
       "      <td>45.430</td>\n",
       "      <td>2</td>\n",
       "      <td>0</td>\n",
       "      <td>1</td>\n",
       "      <td>1</td>\n",
       "      <td>0</td>\n",
       "      <td>0</td>\n",
       "      <td>0</td>\n",
       "      <td>1</td>\n",
       "      <td>0</td>\n",
       "    </tr>\n",
       "  </tbody>\n",
       "</table>\n",
       "<p>402 rows × 11 columns</p>\n",
       "</div>"
      ],
      "text/plain": [
       "      age     bmi  children  sex_female  sex_male  smoker_no  smoker_yes  \\\n",
       "410    19  17.480         0           0         1          1           0   \n",
       "1264   64  23.760         0           0         1          0           1   \n",
       "454    32  46.530         2           0         1          1           0   \n",
       "781    51  35.970         1           0         1          1           0   \n",
       "279    51  21.560         1           1         0          1           0   \n",
       "...   ...     ...       ...         ...       ...        ...         ...   \n",
       "48     60  24.530         0           1         0          1           0   \n",
       "631    29  35.530         0           1         0          1           0   \n",
       "290    28  33.400         0           1         0          1           0   \n",
       "368    44  32.015         2           0         1          1           0   \n",
       "581    39  45.430         2           0         1          1           0   \n",
       "\n",
       "      region_northeast  region_northwest  region_southeast  region_southwest  \n",
       "410                  0                 1                 0                 0  \n",
       "1264                 0                 0                 1                 0  \n",
       "454                  0                 0                 1                 0  \n",
       "781                  0                 0                 1                 0  \n",
       "279                  0                 0                 1                 0  \n",
       "...                ...               ...               ...               ...  \n",
       "48                   0                 0                 1                 0  \n",
       "631                  0                 0                 1                 0  \n",
       "290                  0                 0                 0                 1  \n",
       "368                  0                 1                 0                 0  \n",
       "581                  0                 0                 1                 0  \n",
       "\n",
       "[402 rows x 11 columns]"
      ]
     },
     "execution_count": 38,
     "metadata": {},
     "output_type": "execute_result"
    }
   ],
   "source": [
    "X_test"
   ]
  },
  {
   "cell_type": "code",
   "execution_count": 39,
   "metadata": {
    "collapsed": true,
    "jupyter": {
     "outputs_hidden": true
    }
   },
   "outputs": [
    {
     "data": {
      "text/plain": [
       "410      1621.34020\n",
       "1264    26926.51440\n",
       "454      4686.38870\n",
       "781      9386.16130\n",
       "279      9855.13140\n",
       "           ...     \n",
       "48      12629.89670\n",
       "631      3366.66970\n",
       "290      3172.01800\n",
       "368      8116.26885\n",
       "581      6356.27070\n",
       "Name: charges, Length: 402, dtype: float64"
      ]
     },
     "execution_count": 39,
     "metadata": {},
     "output_type": "execute_result"
    }
   ],
   "source": [
    "y_test"
   ]
  },
  {
   "cell_type": "markdown",
   "metadata": {},
   "source": [
    "#### GridSearchCV\n",
    "   \n",
    "Create XGBoost model"
   ]
  },
  {
   "cell_type": "code",
   "execution_count": 41,
   "metadata": {},
   "outputs": [],
   "source": [
    "xg_model = xgb.XGBRegressor() "
   ]
  },
  {
   "cell_type": "markdown",
   "metadata": {},
   "source": [
    "Create list of parameters"
   ]
  },
  {
   "cell_type": "code",
   "execution_count": 42,
   "metadata": {},
   "outputs": [],
   "source": [
    "candidate_parameters = {\n",
    "    'objective': ['reg:squarederror'],\n",
    "    'seed': ['1970'],\n",
    "    'colsample_bytree': [0.1, 0.25, 0.5, 0.75], \n",
    "    'learning_rate': [0.1, 0.25, 0.5, 0.75], \n",
    "    'max_depth': [3, 5, 8, 10, 15, 20],\n",
    "    'alpha': [1, 5, 10],\n",
    "    'gamma': [1, 5, 10],\n",
    "    'lambda': [1, 5, 10],\n",
    "    'n_estimators': [5, 10, 20, 50, 100, 1000], \n",
    "    #'eval_metric':['rmse'],\n",
    "    'min_child_weight': [0, 1, 2, 3]\n",
    "}"
   ]
  },
  {
   "cell_type": "markdown",
   "metadata": {},
   "source": [
    "Create gridsearch"
   ]
  },
  {
   "cell_type": "code",
   "execution_count": 43,
   "metadata": {},
   "outputs": [],
   "source": [
    "gs = GridSearchCV(\n",
    "    estimator=xg_model,\n",
    "    cv=10,\n",
    "    param_grid=candidate_parameters,\n",
    "    scoring='r2',\n",
    "    n_jobs=-1\n",
    ")"
   ]
  },
  {
   "cell_type": "markdown",
   "metadata": {},
   "source": [
    "Fit gridsearch  \n",
    "WARNING: This process takes many hours (~10hrs) to complete!"
   ]
  },
  {
   "cell_type": "code",
   "execution_count": 44,
   "metadata": {},
   "outputs": [
    {
     "data": {
      "text/plain": [
       "GridSearchCV(cv=10, error_score=nan,\n",
       "             estimator=XGBRegressor(base_score=None, booster=None,\n",
       "                                    colsample_bylevel=None,\n",
       "                                    colsample_bynode=None,\n",
       "                                    colsample_bytree=None, gamma=None,\n",
       "                                    gpu_id=None, importance_type='gain',\n",
       "                                    interaction_constraints=None,\n",
       "                                    learning_rate=None, max_delta_step=None,\n",
       "                                    max_depth=None, min_child_weight=None,\n",
       "                                    missing=nan, monotone_constraints=None,\n",
       "                                    n_estim...\n",
       "             param_grid={'alpha': [1, 5, 10],\n",
       "                         'colsample_bytree': [0.1, 0.25, 0.5, 0.75],\n",
       "                         'gamma': [1, 5, 10], 'lambda': [1, 5, 10],\n",
       "                         'learning_rate': [0.1, 0.25, 0.5, 0.75],\n",
       "                         'max_depth': [3, 5, 8, 10, 15, 20],\n",
       "                         'min_child_weight': [0, 1, 2, 3],\n",
       "                         'n_estimators': [5, 10, 20, 50, 100, 1000],\n",
       "                         'objective': ['reg:squarederror'], 'seed': ['1970']},\n",
       "             pre_dispatch='2*n_jobs', refit=True, return_train_score=False,\n",
       "             scoring='r2', verbose=0)"
      ]
     },
     "execution_count": 44,
     "metadata": {},
     "output_type": "execute_result"
    }
   ],
   "source": [
    "gs.fit(X_train, y_train)"
   ]
  },
  {
   "cell_type": "markdown",
   "metadata": {},
   "source": [
    "Get best parameters"
   ]
  },
  {
   "cell_type": "code",
   "execution_count": 52,
   "metadata": {},
   "outputs": [
    {
     "data": {
      "text/plain": [
       "{'alpha': 1,\n",
       " 'colsample_bytree': 0.75,\n",
       " 'gamma': 1,\n",
       " 'lambda': 5,\n",
       " 'learning_rate': 0.1,\n",
       " 'max_depth': 3,\n",
       " 'min_child_weight': 2,\n",
       " 'n_estimators': 50,\n",
       " 'objective': 'reg:squarederror',\n",
       " 'seed': '1970'}"
      ]
     },
     "execution_count": 52,
     "metadata": {},
     "output_type": "execute_result"
    }
   ],
   "source": [
    "gs_best_params = gs.best_params_\n",
    "gs_best_params"
   ]
  },
  {
   "cell_type": "markdown",
   "metadata": {},
   "source": [
    "Get best score"
   ]
  },
  {
   "cell_type": "code",
   "execution_count": 53,
   "metadata": {},
   "outputs": [
    {
     "data": {
      "text/plain": [
       "'Accuracy (R^2): 85.56%'"
      ]
     },
     "execution_count": 53,
     "metadata": {},
     "output_type": "execute_result"
    }
   ],
   "source": [
    "score = (gs.best_score_)*100\n",
    "f\"Accuracy (R^2): {score:.2f}%\""
   ]
  },
  {
   "cell_type": "markdown",
   "metadata": {},
   "source": [
    "Get best estimator"
   ]
  },
  {
   "cell_type": "code",
   "execution_count": 55,
   "metadata": {},
   "outputs": [
    {
     "data": {
      "text/plain": [
       "XGBRegressor(alpha=1, base_score=0.5, booster='gbtree', colsample_bylevel=1,\n",
       "             colsample_bynode=1, colsample_bytree=0.75, gamma=1, gpu_id=-1,\n",
       "             importance_type='gain', interaction_constraints='', lambda=5,\n",
       "             learning_rate=0.1, max_delta_step=0, max_depth=3,\n",
       "             min_child_weight=2, missing=nan, monotone_constraints='()',\n",
       "             n_estimators=50, n_jobs=0, num_parallel_tree=1,\n",
       "             objective='reg:squarederror', random_state=1970, reg_alpha=1,\n",
       "             reg_lambda=5, scale_pos_weight=1, seed='1970', subsample=1,\n",
       "             tree_method='exact', validate_parameters=1, verbosity=None)"
      ]
     },
     "execution_count": 55,
     "metadata": {},
     "output_type": "execute_result"
    }
   ],
   "source": [
    "gs_best_estimator = gs.best_estimator_\n",
    "gs_best_estimator"
   ]
  },
  {
   "cell_type": "markdown",
   "metadata": {},
   "source": [
    "#### Get results\n",
    "Store the results of the model fitting"
   ]
  },
  {
   "cell_type": "code",
   "execution_count": 71,
   "metadata": {},
   "outputs": [],
   "source": [
    "gs_results = gs.cv_results_"
   ]
  },
  {
   "cell_type": "markdown",
   "metadata": {},
   "source": [
    "Predict test data\n",
    "THIS DOESN'T MAKE SENSE.  GRIDSEARCHCV SHOULD GET THE WHOLE DATA SET.  THERE IS NO TRAIN/TEST SPLIT"
   ]
  },
  {
   "cell_type": "code",
   "execution_count": 100,
   "metadata": {},
   "outputs": [],
   "source": [
    "gs_predicts = gs.predict(X_test)\n"
   ]
  },
  {
   "cell_type": "markdown",
   "metadata": {},
   "source": [
    "#### XGBoost Best Model\n",
    "  \n",
    "Fit the model using best parameters"
   ]
  },
  {
   "cell_type": "code",
   "execution_count": 79,
   "metadata": {},
   "outputs": [],
   "source": [
    "fit_gs = gs_best_estimator.fit(X_train,y_train)\n",
    "gs_preds = fit_gs.predict(X_test)"
   ]
  },
  {
   "cell_type": "code",
   "execution_count": 80,
   "metadata": {},
   "outputs": [
    {
     "data": {
      "text/plain": [
       "'Accuracy (R^2) Model 2 training: 88.48%'"
      ]
     },
     "execution_count": 80,
     "metadata": {},
     "output_type": "execute_result"
    }
   ],
   "source": [
    "score = fit_gs.score(X_train, y_train)*100\n",
    "f\"Accuracy (R^2) Model 2 training: {score:.2f}%\""
   ]
  },
  {
   "cell_type": "code",
   "execution_count": 82,
   "metadata": {},
   "outputs": [
    {
     "data": {
      "text/plain": [
       "'Accuracy (R^2) Model 2 testing: 100.00%'"
      ]
     },
     "execution_count": 82,
     "metadata": {},
     "output_type": "execute_result"
    }
   ],
   "source": [
    "score = fit_gs.score(X_test, gs_preds)*100\n",
    "f\"Accuracy (R^2) Model 2 testing: {score:.2f}%\""
   ]
  },
  {
   "cell_type": "code",
   "execution_count": 83,
   "metadata": {},
   "outputs": [
    {
     "name": "stdout",
     "output_type": "stream",
     "text": [
      "MSE: 20788719.68\n",
      "RMSE: 4559.46\n"
     ]
    }
   ],
   "source": [
    "mse = mean_squared_error(gs_preds, y_test)\n",
    "print(\"MSE: %.2f\" % mse)\n",
    "print(\"RMSE: %.2f\" % np.sqrt(mse))"
   ]
  },
  {
   "cell_type": "markdown",
   "metadata": {},
   "source": [
    "### Save the model to a file"
   ]
  },
  {
   "cell_type": "code",
   "execution_count": 58,
   "metadata": {},
   "outputs": [
    {
     "name": "stderr",
     "output_type": "stream",
     "text": [
      "C:\\Users\\cr117\\Anaconda3\\lib\\site-packages\\sklearn\\externals\\joblib\\__init__.py:15: FutureWarning: sklearn.externals.joblib is deprecated in 0.21 and will be removed in 0.23. Please import this functionality directly from joblib, which can be installed with: pip install joblib. If this warning is raised when loading pickled models, you may need to re-serialize those models with scikit-learn 0.21+.\n",
      "  warnings.warn(msg, category=FutureWarning)\n"
     ]
    }
   ],
   "source": [
    "from sklearn.externals import joblib "
   ]
  },
  {
   "cell_type": "code",
   "execution_count": 84,
   "metadata": {
    "collapsed": true,
    "jupyter": {
     "outputs_hidden": true
    }
   },
   "outputs": [
    {
     "data": {
      "text/plain": [
       "array([ 2049.3755, 26286.9   ,  6969.161 , 11276.808 , 10925.098 ,\n",
       "       10284.823 , 12097.95  , 11898.742 ,  4941.643 ,  8051.032 ,\n",
       "       25488.623 , 28706.12  , 40694.06  ,  6438.3774, 10693.589 ,\n",
       "        4484.9985, 11661.409 ,  9436.869 ,  7453.5166, 12927.556 ,\n",
       "        8502.56  ,  9677.094 , 12659.448 , 22343.86  ,  3925.1377,\n",
       "        7453.5166,  3847.8542, 24553.547 , 40172.043 ,  7698.321 ,\n",
       "        6507.917 ,  9436.869 , 35226.004 , 37457.89  , 12425.669 ,\n",
       "        5366.062 ,  5060.5693,  4725.2056,  7609.7026,  3699.3389,\n",
       "        5491.4116, 12288.745 ,  9604.332 ,  4976.5303, 25084.354 ,\n",
       "        6238.6724, 38281.887 ,  3734.9624,  9418.351 ,  7698.321 ,\n",
       "       12197.182 , 12369.897 ,  8582.476 ,  3925.1377, 13692.102 ,\n",
       "        8047.375 , 12827.782 , 14865.471 ,  5219.0986, 44846.94  ,\n",
       "       40192.215 , 10434.175 ,  4948.535 , 10015.074 ,  6669.368 ,\n",
       "        8409.268 , 37730.344 ,  7698.1978,  6338.399 ,  9663.643 ,\n",
       "       16015.893 ,  6625.06  , 42862.066 , 13701.29  , 18155.467 ,\n",
       "        6519.2773,  8304.392 , 10548.466 , 16134.985 ,  6581.8994,\n",
       "       12352.164 ,  8483.25  , 36380.855 ,  6333.024 ,  6462.904 ,\n",
       "       12305.045 ,  9690.989 , 13285.9795,  7928.52  , 46099.32  ,\n",
       "       13505.759 , 35332.133 ,  9344.46  , 12712.344 , 41296.902 ,\n",
       "       20051.709 ,  6595.3857,  7979.138 , 11536.224 , 15078.828 ,\n",
       "        6419.299 ,  7649.2607, 10339.823 ,  5803.3916, 10592.542 ,\n",
       "       10551.912 , 16822.504 , 14876.319 ,  8482.191 , 26506.826 ,\n",
       "       14150.221 ,  8007.1875,  2825.957 , 16912.03  , 21497.299 ,\n",
       "       19990.102 ,  7253.5337, 10076.908 , 37230.625 ,  2593.7908,\n",
       "        4677.485 ,  4941.643 ,  7666.8022,  3353.044 , 11079.554 ,\n",
       "       10423.979 , 12834.61  ,  7761.154 , 11933.0625, 11296.353 ,\n",
       "        7669.208 , 34353.27  ,  7022.569 , 28390.049 ,  3495.563 ,\n",
       "       14041.4795,  4179.258 , 36940.152 ,  2674.691 ,  2561.7998,\n",
       "        4851.5156, 13743.985 ,  2282.4077, 11576.668 , 15369.092 ,\n",
       "        7124.074 ,  9925.826 , 13455.027 , 11527.345 , 38325.676 ,\n",
       "        1772.3499,  9541.638 , 12260.964 , 14982.943 ,  6520.9146,\n",
       "        5567.331 , 13053.037 ,  6693.2886,  5283.8276,  3754.476 ,\n",
       "        8699.718 , 11944.198 , 39993.4   ,  8134.151 ,  7666.8022,\n",
       "        3534.6338, 12408.066 ,  4941.643 ,  7379.8677,  5572.401 ,\n",
       "        4148.4263, 12992.757 , 12275.546 , 11252.039 ,  3734.9624,\n",
       "       34340.535 , 13969.604 , 14010.653 ,  2247.4958,  4834.035 ,\n",
       "       40138.64  ,  7360.7095,  9849.356 , 12210.693 ,  3569.5457,\n",
       "        8622.437 , 11836.671 ,  7096.5513,  3435.1816, 25435.418 ,\n",
       "       16455.271 , 12683.066 ,  9597.179 , 22494.746 , 13108.505 ,\n",
       "       12257.8125, 12786.5   ,  3941.5688,  8780.036 , 13338.715 ,\n",
       "       12369.897 , 13857.476 , 12881.333 , 35909.473 , 38549.266 ,\n",
       "       12119.36  ,  7698.321 , 11783.956 , 13120.068 ,  3667.8726,\n",
       "       38177.93  , 12257.8125, 44160.023 ,  6180.655 ,  9445.885 ,\n",
       "       38091.805 ,  5537.9473,  6263.003 ,  9601.936 , 11739.461 ,\n",
       "       11604.731 , 14398.834 ,  2531.4587,  5219.0986,  6439.169 ,\n",
       "        2233.5469,  6282.1606, 17034.4   ,  2612.144 , 13642.806 ,\n",
       "        6189.0205,  2612.144 ,  8409.268 , 11276.808 ,  5849.0693,\n",
       "        8886.114 , 11157.143 , 17306.387 , 11348.571 , 13920.862 ,\n",
       "        7179.4214, 18911.459 ,  6377.1235,  6140.079 , 14041.4795,\n",
       "       13863.825 , 41901.918 , 12178.851 ,  8051.032 , 11692.05  ,\n",
       "        4080.8486,  6190.904 , 14241.554 ,  7469.569 ,  6145.924 ,\n",
       "        2280.7402, 35386.29  ,  3050.1313, 46741.902 ,  3660.98  ,\n",
       "        2749.7278,  7096.5513, 41555.16  ,  7438.2163,  7763.5596,\n",
       "       20655.645 ,  5382.493 ,  4586.7544,  2950.2842,  9835.46  ,\n",
       "       15593.42  ,  2696.1638, 15640.007 ,  7079.674 ,  3404.8406,\n",
       "       43792.023 , 46334.08  , 13891.164 , 12369.897 ,  5565.394 ,\n",
       "       10311.648 ,  4351.8535,  2950.2842,  3569.5457,  6243.759 ,\n",
       "        3925.1377, 14984.477 , 12987.6045, 17808.145 , 14306.684 ,\n",
       "       16692.713 , 12280.395 ,  3998.2808, 13612.832 , 22436.904 ,\n",
       "       12424.366 , 13003.252 , 11252.039 ,  7034.406 ,  9184.4375,\n",
       "       44788.84  , 37687.15  ,  7697.8643, 37386.34  ,  9007.472 ,\n",
       "       34732.312 , 39148.08  ,  4677.485 ,  6438.3774, 34187.953 ,\n",
       "        6244.684 ,  7179.4214, 23678.83  , 17942.662 ,  4850.9204,\n",
       "       16731.1   ,  5481.373 , 12018.181 , 19460.58  , 10118.478 ,\n",
       "        7854.5376,  9525.338 ,  5199.3267,  4253.24  ,  3924.2988,\n",
       "       14398.834 , 16901.424 ,  3600.6587, 38012.1   ,  6767.271 ,\n",
       "        6653.915 , 45049.85  ,  5366.3955, 10670.594 , 35388.12  ,\n",
       "       10693.72  ,  7928.52  ,  9205.877 , 13411.645 ,  1482.8613,\n",
       "        7433.9565,  3495.563 , 12194.394 ,  6468.874 , 10015.074 ,\n",
       "        9408.123 ,  6026.821 ,  2698.1008,  5566.4487, 15356.606 ,\n",
       "       16663.355 ,  1814.2649,  5565.394 ,  7436.428 , 13957.162 ,\n",
       "        9540.236 ,  6812.975 , 13985.516 ,  9445.885 ,  3404.8406,\n",
       "        3941.5688,  7379.534 , 12210.693 ,  2358.9067, 12974.985 ,\n",
       "        2514.574 ,  6317.741 , 14669.939 , 12003.599 ,  9721.325 ,\n",
       "        9149.065 , 24466.803 ,  3583.6968, 15770.283 , 17400.736 ,\n",
       "       10985.202 , 42719.78  ,  6676.3784,  5844.4585, 17317.166 ,\n",
       "       13900.61  ,  4382.1934,  3999.12  , 13197.01  ,  2531.4587,\n",
       "       42812.32  , 44797.195 ,  9580.338 ,  7771.8467,  6533.3096,\n",
       "       18025.58  ,  7669.208 ,  3569.5457,  4178.418 ,  3625.3562,\n",
       "       13891.164 , 12096.627 , 14202.022 ,  3999.12  ,  3860.6687,\n",
       "       10395.727 ,  7536.0537], dtype=float32)"
      ]
     },
     "execution_count": 84,
     "metadata": {},
     "output_type": "execute_result"
    }
   ],
   "source": [
    "# Save the model as a pickle in a file \n",
    "joblib.dump(fit_gs, 'gscv_xgb_model.pkl') \n",
    "  \n",
    "# Load the model from the file \n",
    "fit_gs_model_from_joblib = joblib.load('gscv_xgb_model.pkl')  \n",
    "  \n",
    "# Use the loaded model to make predictions \n",
    "fit_gs_model_from_joblib.predict(X_test) "
   ]
  },
  {
   "cell_type": "markdown",
   "metadata": {},
   "source": [
    "### Save as json file"
   ]
  },
  {
   "cell_type": "code",
   "execution_count": 85,
   "metadata": {},
   "outputs": [],
   "source": [
    "fit_gs.save_model('gscv_xgb_model.json')"
   ]
  },
  {
   "cell_type": "markdown",
   "metadata": {},
   "source": [
    "#### Model 2: Plots"
   ]
  },
  {
   "cell_type": "code",
   "execution_count": 86,
   "metadata": {},
   "outputs": [
    {
     "data": {
      "text/plain": [
       "<matplotlib.axes._subplots.AxesSubplot at 0x2003489c080>"
      ]
     },
     "execution_count": 86,
     "metadata": {},
     "output_type": "execute_result"
    },
    {
     "data": {
      "image/png": "[encoded data removed]",
      "text/plain": [
       "<Figure size 432x288 with 1 Axes>"
      ]
     },
     "metadata": {
      "needs_background": "light"
     },
     "output_type": "display_data"
    }
   ],
   "source": [
    "xgb.plot_importance(fit_gs)"
   ]
  },
  {
   "cell_type": "code",
   "execution_count": 88,
   "metadata": {},
   "outputs": [
    {
     "data": {
      "image/svg+xml": [
       "<?xml version=\"1.0\" encoding=\"UTF-8\" standalone=\"no\"?>\r\n",
       "<!DOCTYPE svg PUBLIC \"-//W3C//DTD SVG 1.1//EN\"\r\n",
       " \"http://www.w3.org/Graphics/SVG/1.1/DTD/svg11.dtd\">\r\n",
       "<!-- Generated by graphviz version 2.38.0 (20140413.2041)\r\n",
       " -->\r\n",
       "<!-- Title: %3 Pages: 1 -->\r\n",
       "<svg width=\"1296pt\" height=\"305pt\"\r\n",
       " viewBox=\"0.00 0.00 1296.29 305.00\" xmlns=\"http://www.w3.org/2000/svg\" xmlns:xlink=\"http://www.w3.org/1999/xlink\">\r\n",
       "<g id=\"graph0\" class=\"graph\" transform=\"scale(1 1) rotate(0) translate(4 301)\">\r\n",
       "<title>%3</title>\r\n",
       "<polygon fill=\"white\" stroke=\"none\" points=\"-4,4 -4,-301 1292.29,-301 1292.29,4 -4,4\"/>\r\n",
       "<!-- 0 -->\r\n",
       "<g id=\"node1\" class=\"node\"><title>0</title>\r\n",
       "<ellipse fill=\"none\" stroke=\"black\" cx=\"622.443\" cy=\"-279\" rx=\"44.393\" ry=\"18\"/>\r\n",
       "<text text-anchor=\"middle\" x=\"622.443\" y=\"-275.3\" font-family=\"Times New Roman,serif\" font-size=\"14.00\">age&lt;59.5</text>\r\n",
       "</g>\r\n",
       "<!-- 1 -->\r\n",
       "<g id=\"node2\" class=\"node\"><title>1</title>\r\n",
       "<ellipse fill=\"none\" stroke=\"black\" cx=\"474.443\" cy=\"-192\" rx=\"55.7903\" ry=\"18\"/>\r\n",
       "<text text-anchor=\"middle\" x=\"474.443\" y=\"-188.3\" font-family=\"Times New Roman,serif\" font-size=\"14.00\">children&lt;1.5</text>\r\n",
       "</g>\r\n",
       "<!-- 0&#45;&gt;1 -->\r\n",
       "<g id=\"edge1\" class=\"edge\"><title>0&#45;&gt;1</title>\r\n",
       "<path fill=\"none\" stroke=\"#0000ff\" d=\"M598.004,-263.964C573.884,-250.111 536.761,-228.791 509.5,-213.134\"/>\r\n",
       "<polygon fill=\"#0000ff\" stroke=\"#0000ff\" points=\"511.081,-210.005 500.666,-208.06 507.594,-216.076 511.081,-210.005\"/>\r\n",
       "<text text-anchor=\"middle\" x=\"591.943\" y=\"-231.8\" font-family=\"Times New Roman,serif\" font-size=\"14.00\">yes, missing</text>\r\n",
       "</g>\r\n",
       "<!-- 2 -->\r\n",
       "<g id=\"node3\" class=\"node\"><title>2</title>\r\n",
       "<ellipse fill=\"none\" stroke=\"black\" cx=\"731.443\" cy=\"-192\" rx=\"55.7903\" ry=\"18\"/>\r\n",
       "<text text-anchor=\"middle\" x=\"731.443\" y=\"-188.3\" font-family=\"Times New Roman,serif\" font-size=\"14.00\">children&lt;0.5</text>\r\n",
       "</g>\r\n",
       "<!-- 0&#45;&gt;2 -->\r\n",
       "<g id=\"edge2\" class=\"edge\"><title>0&#45;&gt;2</title>\r\n",
       "<path fill=\"none\" stroke=\"#ff0000\" d=\"M641.93,-262.804C658.893,-249.576 683.703,-230.229 702.903,-215.256\"/>\r\n",
       "<polygon fill=\"#ff0000\" stroke=\"#ff0000\" points=\"705.282,-217.84 711.015,-208.93 700.977,-212.32 705.282,-217.84\"/>\r\n",
       "<text text-anchor=\"middle\" x=\"691.943\" y=\"-231.8\" font-family=\"Times New Roman,serif\" font-size=\"14.00\">no</text>\r\n",
       "</g>\r\n",
       "<!-- 3 -->\r\n",
       "<g id=\"node4\" class=\"node\"><title>3</title>\r\n",
       "<ellipse fill=\"none\" stroke=\"black\" cx=\"235.443\" cy=\"-105\" rx=\"44.393\" ry=\"18\"/>\r\n",
       "<text text-anchor=\"middle\" x=\"235.443\" y=\"-101.3\" font-family=\"Times New Roman,serif\" font-size=\"14.00\">age&lt;19.5</text>\r\n",
       "</g>\r\n",
       "<!-- 1&#45;&gt;3 -->\r\n",
       "<g id=\"edge3\" class=\"edge\"><title>1&#45;&gt;3</title>\r\n",
       "<path fill=\"none\" stroke=\"#0000ff\" d=\"M438.404,-178.183C395.154,-162.801 322.77,-137.058 277.147,-120.832\"/>\r\n",
       "<polygon fill=\"#0000ff\" stroke=\"#0000ff\" points=\"278.153,-117.475 267.558,-117.421 275.807,-124.07 278.153,-117.475\"/>\r\n",
       "<text text-anchor=\"middle\" x=\"403.943\" y=\"-144.8\" font-family=\"Times New Roman,serif\" font-size=\"14.00\">yes, missing</text>\r\n",
       "</g>\r\n",
       "<!-- 4 -->\r\n",
       "<g id=\"node5\" class=\"node\"><title>4</title>\r\n",
       "<ellipse fill=\"none\" stroke=\"black\" cx=\"474.443\" cy=\"-105\" rx=\"89.0842\" ry=\"18\"/>\r\n",
       "<text text-anchor=\"middle\" x=\"474.443\" y=\"-101.3\" font-family=\"Times New Roman,serif\" font-size=\"14.00\">region_southeast&lt;0.5</text>\r\n",
       "</g>\r\n",
       "<!-- 1&#45;&gt;4 -->\r\n",
       "<g id=\"edge4\" class=\"edge\"><title>1&#45;&gt;4</title>\r\n",
       "<path fill=\"none\" stroke=\"#ff0000\" d=\"M474.443,-173.799C474.443,-162.163 474.443,-146.548 474.443,-133.237\"/>\r\n",
       "<polygon fill=\"#ff0000\" stroke=\"#ff0000\" points=\"477.944,-133.175 474.443,-123.175 470.944,-133.175 477.944,-133.175\"/>\r\n",
       "<text text-anchor=\"middle\" x=\"481.943\" y=\"-144.8\" font-family=\"Times New Roman,serif\" font-size=\"14.00\">no</text>\r\n",
       "</g>\r\n",
       "<!-- 5 -->\r\n",
       "<g id=\"node10\" class=\"node\"><title>5</title>\r\n",
       "<ellipse fill=\"none\" stroke=\"black\" cx=\"731.443\" cy=\"-105\" rx=\"71.4873\" ry=\"18\"/>\r\n",
       "<text text-anchor=\"middle\" x=\"731.443\" y=\"-101.3\" font-family=\"Times New Roman,serif\" font-size=\"14.00\">smoker_yes&lt;0.5</text>\r\n",
       "</g>\r\n",
       "<!-- 2&#45;&gt;5 -->\r\n",
       "<g id=\"edge9\" class=\"edge\"><title>2&#45;&gt;5</title>\r\n",
       "<path fill=\"none\" stroke=\"#0000ff\" d=\"M731.443,-173.799C731.443,-162.163 731.443,-146.548 731.443,-133.237\"/>\r\n",
       "<polygon fill=\"#0000ff\" stroke=\"#0000ff\" points=\"734.944,-133.175 731.443,-123.175 727.944,-133.175 734.944,-133.175\"/>\r\n",
       "<text text-anchor=\"middle\" x=\"765.943\" y=\"-144.8\" font-family=\"Times New Roman,serif\" font-size=\"14.00\">yes, missing</text>\r\n",
       "</g>\r\n",
       "<!-- 6 -->\r\n",
       "<g id=\"node11\" class=\"node\"><title>6</title>\r\n",
       "<ellipse fill=\"none\" stroke=\"black\" cx=\"1055.44\" cy=\"-105\" rx=\"44.393\" ry=\"18\"/>\r\n",
       "<text text-anchor=\"middle\" x=\"1055.44\" y=\"-101.3\" font-family=\"Times New Roman,serif\" font-size=\"14.00\">age&lt;60.5</text>\r\n",
       "</g>\r\n",
       "<!-- 2&#45;&gt;6 -->\r\n",
       "<g id=\"edge10\" class=\"edge\"><title>2&#45;&gt;6</title>\r\n",
       "<path fill=\"none\" stroke=\"#ff0000\" d=\"M773.469,-179.975C834.254,-164.028 946.31,-134.631 1009.31,-118.102\"/>\r\n",
       "<polygon fill=\"#ff0000\" stroke=\"#ff0000\" points=\"1010.2,-121.487 1018.99,-115.564 1008.43,-114.716 1010.2,-121.487\"/>\r\n",
       "<text text-anchor=\"middle\" x=\"920.943\" y=\"-144.8\" font-family=\"Times New Roman,serif\" font-size=\"14.00\">no</text>\r\n",
       "</g>\r\n",
       "<!-- 7 -->\r\n",
       "<g id=\"node6\" class=\"node\"><title>7</title>\r\n",
       "<ellipse fill=\"none\" stroke=\"black\" cx=\"73.4435\" cy=\"-18\" rx=\"73.387\" ry=\"18\"/>\r\n",
       "<text text-anchor=\"middle\" x=\"73.4435\" y=\"-14.3\" font-family=\"Times New Roman,serif\" font-size=\"14.00\">leaf=&#45;63.8862495</text>\r\n",
       "</g>\r\n",
       "<!-- 3&#45;&gt;7 -->\r\n",
       "<g id=\"edge5\" class=\"edge\"><title>3&#45;&gt;7</title>\r\n",
       "<path fill=\"none\" stroke=\"#0000ff\" d=\"M207.154,-90.959C193.535,-84.5485 177.034,-76.5859 162.443,-69 144.83,-59.842 125.59,-49.1254 109.52,-39.9676\"/>\r\n",
       "<polygon fill=\"#0000ff\" stroke=\"#0000ff\" points=\"110.878,-36.7118 100.461,-34.7792 107.399,-42.7862 110.878,-36.7118\"/>\r\n",
       "<text text-anchor=\"middle\" x=\"196.943\" y=\"-57.8\" font-family=\"Times New Roman,serif\" font-size=\"14.00\">yes, missing</text>\r\n",
       "</g>\r\n",
       "<!-- 8 -->\r\n",
       "<g id=\"node7\" class=\"node\"><title>8</title>\r\n",
       "<ellipse fill=\"none\" stroke=\"black\" cx=\"235.443\" cy=\"-18\" rx=\"70.6878\" ry=\"18\"/>\r\n",
       "<text text-anchor=\"middle\" x=\"235.443\" y=\"-14.3\" font-family=\"Times New Roman,serif\" font-size=\"14.00\">leaf=1.26807272</text>\r\n",
       "</g>\r\n",
       "<!-- 3&#45;&gt;8 -->\r\n",
       "<g id=\"edge6\" class=\"edge\"><title>3&#45;&gt;8</title>\r\n",
       "<path fill=\"none\" stroke=\"#ff0000\" d=\"M235.443,-86.799C235.443,-75.1626 235.443,-59.5479 235.443,-46.2368\"/>\r\n",
       "<polygon fill=\"#ff0000\" stroke=\"#ff0000\" points=\"238.944,-46.1754 235.443,-36.1754 231.944,-46.1755 238.944,-46.1754\"/>\r\n",
       "<text text-anchor=\"middle\" x=\"242.943\" y=\"-57.8\" font-family=\"Times New Roman,serif\" font-size=\"14.00\">no</text>\r\n",
       "</g>\r\n",
       "<!-- 9 -->\r\n",
       "<g id=\"node8\" class=\"node\"><title>9</title>\r\n",
       "<ellipse fill=\"none\" stroke=\"black\" cx=\"395.443\" cy=\"-18\" rx=\"70.6878\" ry=\"18\"/>\r\n",
       "<text text-anchor=\"middle\" x=\"395.443\" y=\"-14.3\" font-family=\"Times New Roman,serif\" font-size=\"14.00\">leaf=53.2511292</text>\r\n",
       "</g>\r\n",
       "<!-- 4&#45;&gt;9 -->\r\n",
       "<g id=\"edge7\" class=\"edge\"><title>4&#45;&gt;9</title>\r\n",
       "<path fill=\"none\" stroke=\"#0000ff\" d=\"M458.836,-87.2067C447.15,-74.6335 430.995,-57.252 417.919,-43.1825\"/>\r\n",
       "<polygon fill=\"#0000ff\" stroke=\"#0000ff\" points=\"420.39,-40.7005 411.019,-35.7584 415.263,-45.466 420.39,-40.7005\"/>\r\n",
       "<text text-anchor=\"middle\" x=\"474.943\" y=\"-57.8\" font-family=\"Times New Roman,serif\" font-size=\"14.00\">yes, missing</text>\r\n",
       "</g>\r\n",
       "<!-- 10 -->\r\n",
       "<g id=\"node9\" class=\"node\"><title>10</title>\r\n",
       "<ellipse fill=\"none\" stroke=\"black\" cx=\"557.443\" cy=\"-18\" rx=\"73.387\" ry=\"18\"/>\r\n",
       "<text text-anchor=\"middle\" x=\"557.443\" y=\"-14.3\" font-family=\"Times New Roman,serif\" font-size=\"14.00\">leaf=&#45;46.3954582</text>\r\n",
       "</g>\r\n",
       "<!-- 4&#45;&gt;10 -->\r\n",
       "<g id=\"edge8\" class=\"edge\"><title>4&#45;&gt;10</title>\r\n",
       "<path fill=\"none\" stroke=\"#ff0000\" d=\"M493.902,-87.3465C500.277,-81.679 507.298,-75.2057 513.443,-69 521.254,-61.1126 529.395,-52.1095 536.519,-43.9366\"/>\r\n",
       "<polygon fill=\"#ff0000\" stroke=\"#ff0000\" points=\"539.383,-45.9746 543.254,-36.1126 534.078,-41.4076 539.383,-45.9746\"/>\r\n",
       "<text text-anchor=\"middle\" x=\"534.943\" y=\"-57.8\" font-family=\"Times New Roman,serif\" font-size=\"14.00\">no</text>\r\n",
       "</g>\r\n",
       "<!-- 11 -->\r\n",
       "<g id=\"node12\" class=\"node\"><title>11</title>\r\n",
       "<ellipse fill=\"none\" stroke=\"black\" cx=\"726.443\" cy=\"-18\" rx=\"77.9862\" ry=\"18\"/>\r\n",
       "<text text-anchor=\"middle\" x=\"726.443\" y=\"-14.3\" font-family=\"Times New Roman,serif\" font-size=\"14.00\">leaf=&#45;0.264892578</text>\r\n",
       "</g>\r\n",
       "<!-- 5&#45;&gt;11 -->\r\n",
       "<g id=\"edge11\" class=\"edge\"><title>5&#45;&gt;11</title>\r\n",
       "<path fill=\"none\" stroke=\"#0000ff\" d=\"M730.432,-86.799C729.747,-75.1626 728.829,-59.5479 728.046,-46.2368\"/>\r\n",
       "<polygon fill=\"#0000ff\" stroke=\"#0000ff\" points=\"731.535,-45.9526 727.454,-36.1754 724.547,-46.3637 731.535,-45.9526\"/>\r\n",
       "<text text-anchor=\"middle\" x=\"763.943\" y=\"-57.8\" font-family=\"Times New Roman,serif\" font-size=\"14.00\">yes, missing</text>\r\n",
       "</g>\r\n",
       "<!-- 12 -->\r\n",
       "<g id=\"node13\" class=\"node\"><title>12</title>\r\n",
       "<ellipse fill=\"none\" stroke=\"black\" cx=\"893.443\" cy=\"-18\" rx=\"70.6878\" ry=\"18\"/>\r\n",
       "<text text-anchor=\"middle\" x=\"893.443\" y=\"-14.3\" font-family=\"Times New Roman,serif\" font-size=\"14.00\">leaf=116.713661</text>\r\n",
       "</g>\r\n",
       "<!-- 5&#45;&gt;12 -->\r\n",
       "<g id=\"edge12\" class=\"edge\"><title>5&#45;&gt;12</title>\r\n",
       "<path fill=\"none\" stroke=\"#ff0000\" d=\"M763.051,-88.7917C775.402,-82.7519 789.646,-75.6661 802.443,-69 820.519,-59.5847 840.379,-48.7332 856.921,-39.5506\"/>\r\n",
       "<polygon fill=\"#ff0000\" stroke=\"#ff0000\" points=\"858.703,-42.564 865.737,-34.6405 855.297,-36.4485 858.703,-42.564\"/>\r\n",
       "<text text-anchor=\"middle\" x=\"837.943\" y=\"-57.8\" font-family=\"Times New Roman,serif\" font-size=\"14.00\">no</text>\r\n",
       "</g>\r\n",
       "<!-- 13 -->\r\n",
       "<g id=\"node14\" class=\"node\"><title>13</title>\r\n",
       "<ellipse fill=\"none\" stroke=\"black\" cx=\"1055.44\" cy=\"-18\" rx=\"73.387\" ry=\"18\"/>\r\n",
       "<text text-anchor=\"middle\" x=\"1055.44\" y=\"-14.3\" font-family=\"Times New Roman,serif\" font-size=\"14.00\">leaf=&#45;22.9146252</text>\r\n",
       "</g>\r\n",
       "<!-- 6&#45;&gt;13 -->\r\n",
       "<g id=\"edge13\" class=\"edge\"><title>6&#45;&gt;13</title>\r\n",
       "<path fill=\"none\" stroke=\"#0000ff\" d=\"M1055.44,-86.799C1055.44,-75.1626 1055.44,-59.5479 1055.44,-46.2368\"/>\r\n",
       "<polygon fill=\"#0000ff\" stroke=\"#0000ff\" points=\"1058.94,-46.1754 1055.44,-36.1754 1051.94,-46.1755 1058.94,-46.1754\"/>\r\n",
       "<text text-anchor=\"middle\" x=\"1089.94\" y=\"-57.8\" font-family=\"Times New Roman,serif\" font-size=\"14.00\">yes, missing</text>\r\n",
       "</g>\r\n",
       "<!-- 14 -->\r\n",
       "<g id=\"node15\" class=\"node\"><title>14</title>\r\n",
       "<ellipse fill=\"none\" stroke=\"black\" cx=\"1217.44\" cy=\"-18\" rx=\"70.6878\" ry=\"18\"/>\r\n",
       "<text text-anchor=\"middle\" x=\"1217.44\" y=\"-14.3\" font-family=\"Times New Roman,serif\" font-size=\"14.00\">leaf=190.997955</text>\r\n",
       "</g>\r\n",
       "<!-- 6&#45;&gt;14 -->\r\n",
       "<g id=\"edge14\" class=\"edge\"><title>6&#45;&gt;14</title>\r\n",
       "<path fill=\"none\" stroke=\"#ff0000\" d=\"M1083.73,-90.959C1097.35,-84.5485 1113.85,-76.5859 1128.44,-69 1146.06,-59.842 1165.3,-49.1254 1181.37,-39.9676\"/>\r\n",
       "<polygon fill=\"#ff0000\" stroke=\"#ff0000\" points=\"1183.49,-42.7862 1190.43,-34.7792 1180.01,-36.7118 1183.49,-42.7862\"/>\r\n",
       "<text text-anchor=\"middle\" x=\"1163.94\" y=\"-57.8\" font-family=\"Times New Roman,serif\" font-size=\"14.00\">no</text>\r\n",
       "</g>\r\n",
       "</g>\r\n",
       "</svg>\r\n"
      ],
      "text/plain": [
       "<graphviz.files.Source at 0x20034d31400>"
      ]
     },
     "execution_count": 88,
     "metadata": {},
     "output_type": "execute_result"
    }
   ],
   "source": [
    "xgb.to_graphviz(fit_gs, num_trees=49)"
   ]
  },
  {
   "cell_type": "markdown",
   "metadata": {},
   "source": [
    "#### Test out a prediction"
   ]
  },
  {
   "cell_type": "code",
   "execution_count": 92,
   "metadata": {},
   "outputs": [
    {
     "data": {
      "text/plain": [
       "age                   18.0000\n",
       "bmi                   53.1300\n",
       "children               0.0000\n",
       "charges             1163.4627\n",
       "sex_female             0.0000\n",
       "sex_male               1.0000\n",
       "smoker_no              1.0000\n",
       "smoker_yes             0.0000\n",
       "region_northeast       0.0000\n",
       "region_northwest       0.0000\n",
       "region_southeast       1.0000\n",
       "region_southwest       0.0000\n",
       "Name: 1316, dtype: float64"
      ]
     },
     "execution_count": 92,
     "metadata": {},
     "output_type": "execute_result"
    }
   ],
   "source": [
    "# get max charge row\n",
    "max_charge_row = df.loc[df['bmi'].idxmax()]\n",
    "max_charge_row"
   ]
  },
  {
   "cell_type": "markdown",
   "metadata": {},
   "source": [
    "Create new test record similar to max charge record"
   ]
  },
  {
   "cell_type": "code",
   "execution_count": 93,
   "metadata": {},
   "outputs": [],
   "source": [
    "new_rec_df = pd.DataFrame(max_charge_row)"
   ]
  },
  {
   "cell_type": "code",
   "execution_count": 94,
   "metadata": {},
   "outputs": [],
   "source": [
    "new_rec_2_df = new_rec_df.transpose()\n",
    "new_rec_2_df = new_rec_2_df.loc[:, new_rec_2_df.columns != 'charges']"
   ]
  },
  {
   "cell_type": "code",
   "execution_count": null,
   "metadata": {},
   "outputs": [],
   "source": [
    "new_rec_2_df.at[1316, 'age'] = 18\n",
    "new_rec_2_df.at[1316, 'bmi'] = 53"
   ]
  },
  {
   "cell_type": "code",
   "execution_count": 95,
   "metadata": {},
   "outputs": [
    {
     "data": {
      "text/html": [
       "<div>\n",
       "<style scoped>\n",
       "    .dataframe tbody tr th:only-of-type {\n",
       "        vertical-align: middle;\n",
       "    }\n",
       "\n",
       "    .dataframe tbody tr th {\n",
       "        vertical-align: top;\n",
       "    }\n",
       "\n",
       "    .dataframe thead th {\n",
       "        text-align: right;\n",
       "    }\n",
       "</style>\n",
       "<table border=\"1\" class=\"dataframe\">\n",
       "  <thead>\n",
       "    <tr style=\"text-align: right;\">\n",
       "      <th></th>\n",
       "      <th>age</th>\n",
       "      <th>bmi</th>\n",
       "      <th>children</th>\n",
       "      <th>sex_female</th>\n",
       "      <th>sex_male</th>\n",
       "      <th>smoker_no</th>\n",
       "      <th>smoker_yes</th>\n",
       "      <th>region_northeast</th>\n",
       "      <th>region_northwest</th>\n",
       "      <th>region_southeast</th>\n",
       "      <th>region_southwest</th>\n",
       "    </tr>\n",
       "  </thead>\n",
       "  <tbody>\n",
       "    <tr>\n",
       "      <th>1316</th>\n",
       "      <td>18.0</td>\n",
       "      <td>53.13</td>\n",
       "      <td>0.0</td>\n",
       "      <td>0.0</td>\n",
       "      <td>1.0</td>\n",
       "      <td>1.0</td>\n",
       "      <td>0.0</td>\n",
       "      <td>0.0</td>\n",
       "      <td>0.0</td>\n",
       "      <td>1.0</td>\n",
       "      <td>0.0</td>\n",
       "    </tr>\n",
       "  </tbody>\n",
       "</table>\n",
       "</div>"
      ],
      "text/plain": [
       "       age    bmi  children  sex_female  sex_male  smoker_no  smoker_yes  \\\n",
       "1316  18.0  53.13       0.0         0.0       1.0        1.0         0.0   \n",
       "\n",
       "      region_northeast  region_northwest  region_southeast  region_southwest  \n",
       "1316               0.0               0.0               1.0               0.0  "
      ]
     },
     "execution_count": 95,
     "metadata": {},
     "output_type": "execute_result"
    }
   ],
   "source": [
    "new_rec_2_df"
   ]
  },
  {
   "cell_type": "markdown",
   "metadata": {},
   "source": [
    "Predict on the new record"
   ]
  },
  {
   "cell_type": "code",
   "execution_count": 96,
   "metadata": {},
   "outputs": [],
   "source": [
    "new_pred = fit_gs.predict(new_rec_2_df)"
   ]
  },
  {
   "cell_type": "code",
   "execution_count": 97,
   "metadata": {},
   "outputs": [
    {
     "data": {
      "text/plain": [
       "array([1553.4713], dtype=float32)"
      ]
     },
     "execution_count": 97,
     "metadata": {},
     "output_type": "execute_result"
    }
   ],
   "source": [
    "new_pred"
   ]
  }
 ],
 "metadata": {
  "kernelspec": {
   "display_name": "Python 3",
   "language": "python",
   "name": "python3"
  },
  "language_info": {
   "codemirror_mode": {
    "name": "ipython",
    "version": 3
   },
   "file_extension": ".py",
   "mimetype": "text/x-python",
   "name": "python",
   "nbconvert_exporter": "python",
   "pygments_lexer": "ipython3",
   "version": "3.7.1"
  }
 },
 "nbformat": 4,
 "nbformat_minor": 4
}
